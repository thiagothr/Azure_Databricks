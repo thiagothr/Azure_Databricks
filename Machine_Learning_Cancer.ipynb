{
 "cells": [
  {
   "cell_type": "markdown",
   "metadata": {
    "application/vnd.databricks.v1+cell": {
     "cellMetadata": {},
     "inputWidgets": {},
     "nuid": "7f380afe-8591-48c0-82d8-3aeb06215db4",
     "showTitle": false,
     "title": ""
    }
   },
   "source": [
    "## Tratamento e Análise exploratória dos dados usando a API do pandas no spark"
   ]
  },
  {
   "cell_type": "code",
   "execution_count": 0,
   "metadata": {
    "application/vnd.databricks.v1+cell": {
     "cellMetadata": {
      "byteLimit": 2048000,
      "rowLimit": 10000
     },
     "inputWidgets": {},
     "nuid": "7692954c-d372-4636-b489-ad524ccc3d83",
     "showTitle": false,
     "title": ""
    },
    "id": "nhCyWTbbUZsR"
   },
   "outputs": [],
   "source": [
    "import pyspark.pandas as ps"
   ]
  },
  {
   "cell_type": "code",
   "execution_count": 0,
   "metadata": {
    "application/vnd.databricks.v1+cell": {
     "cellMetadata": {
      "byteLimit": 2048000,
      "rowLimit": 10000
     },
     "inputWidgets": {},
     "nuid": "9eb0c829-2e75-4c98-a423-37ab4e9f496e",
     "showTitle": false,
     "title": ""
    }
   },
   "outputs": [],
   "source": [
    "base_cancer = ('/mnt/Databricks_Dados/bronze/Cancer_Data.csv')\n",
    "cancer_df = ps.read_csv(base_cancer)"
   ]
  },
  {
   "cell_type": "code",
   "execution_count": 0,
   "metadata": {
    "application/vnd.databricks.v1+cell": {
     "cellMetadata": {
      "byteLimit": 2048000,
      "rowLimit": 10000
     },
     "inputWidgets": {},
     "nuid": "4d605e81-edf4-4110-bdfd-cabb06095d79",
     "showTitle": false,
     "title": ""
    },
    "colab": {
     "base_uri": "https://localhost:8080/",
     "height": 505
    },
    "id": "vZjWpq2GVaM8",
    "outputId": "a59c7cdd-e15d-4cfe-f7e7-c59d1d6b71e6"
   },
   "outputs": [],
   "source": [
    "cancer_df.head()"
   ]
  },
  {
   "cell_type": "code",
   "execution_count": 0,
   "metadata": {
    "application/vnd.databricks.v1+cell": {
     "cellMetadata": {
      "byteLimit": 2048000,
      "rowLimit": 10000
     },
     "inputWidgets": {},
     "nuid": "96bd310c-f057-4d11-b3cb-c737f9ac8abd",
     "showTitle": false,
     "title": ""
    }
   },
   "outputs": [],
   "source": [
    "cancer_df.info()"
   ]
  },
  {
   "cell_type": "code",
   "execution_count": 0,
   "metadata": {
    "application/vnd.databricks.v1+cell": {
     "cellMetadata": {
      "byteLimit": 2048000,
      "rowLimit": 10000
     },
     "inputWidgets": {},
     "nuid": "d1900098-be7f-4779-8924-1df7ca7818ad",
     "showTitle": false,
     "title": ""
    },
    "id": "u2nUgrdGVuSD"
   },
   "outputs": [],
   "source": [
    "cancer_df.columns"
   ]
  },
  {
   "cell_type": "code",
   "execution_count": 0,
   "metadata": {
    "application/vnd.databricks.v1+cell": {
     "cellMetadata": {
      "byteLimit": 2048000,
      "rowLimit": 10000
     },
     "inputWidgets": {},
     "nuid": "f0c698c8-29de-459c-8ff2-a32d90d4b792",
     "showTitle": false,
     "title": ""
    },
    "id": "w1pNmdxIVdIT"
   },
   "outputs": [],
   "source": [
    "cancer_df = cancer_df.drop(['_c32'], axis=1)"
   ]
  },
  {
   "cell_type": "code",
   "execution_count": 0,
   "metadata": {
    "application/vnd.databricks.v1+cell": {
     "cellMetadata": {
      "byteLimit": 2048000,
      "rowLimit": 10000
     },
     "inputWidgets": {},
     "nuid": "6f9b7aec-adc9-4b66-aaae-fa3db4ce59f3",
     "showTitle": false,
     "title": ""
    },
    "id": "tn7nfltSVy37"
   },
   "outputs": [],
   "source": [
    "cancer_df.columns"
   ]
  },
  {
   "cell_type": "code",
   "execution_count": 0,
   "metadata": {
    "application/vnd.databricks.v1+cell": {
     "cellMetadata": {
      "byteLimit": 2048000,
      "rowLimit": 10000
     },
     "inputWidgets": {},
     "nuid": "5dd124b1-affd-46d3-bfea-781b9b7dee8c",
     "showTitle": false,
     "title": ""
    },
    "id": "IvnsMOkKWnU7"
   },
   "outputs": [],
   "source": [
    "cancer_df = cancer_df.drop('id', axis=1)"
   ]
  },
  {
   "cell_type": "code",
   "execution_count": 0,
   "metadata": {
    "application/vnd.databricks.v1+cell": {
     "cellMetadata": {
      "byteLimit": 2048000,
      "rowLimit": 10000
     },
     "inputWidgets": {},
     "nuid": "d6cddd8e-bb57-4a0d-b697-f58020461f2b",
     "showTitle": false,
     "title": ""
    },
    "colab": {
     "base_uri": "https://localhost:8080/"
    },
    "id": "WiWexNmTWsDL",
    "outputId": "822874ca-1255-4fc5-c63e-3e854b4071ed"
   },
   "outputs": [],
   "source": [
    "cancer_df.columns"
   ]
  },
  {
   "cell_type": "code",
   "execution_count": 0,
   "metadata": {
    "application/vnd.databricks.v1+cell": {
     "cellMetadata": {
      "byteLimit": 2048000,
      "rowLimit": 10000
     },
     "inputWidgets": {},
     "nuid": "96c451fe-5dd0-47b6-bb76-23abdb750c51",
     "showTitle": false,
     "title": ""
    },
    "id": "DDHPl8FVV1K7"
   },
   "outputs": [],
   "source": [
    "type(cancer_df)"
   ]
  },
  {
   "cell_type": "code",
   "execution_count": 0,
   "metadata": {
    "application/vnd.databricks.v1+cell": {
     "cellMetadata": {
      "byteLimit": 2048000,
      "rowLimit": 10000
     },
     "inputWidgets": {},
     "nuid": "15e42800-f956-445c-8d86-067ef08ec5e2",
     "showTitle": false,
     "title": ""
    },
    "id": "EZT7ccNkWCwD"
   },
   "outputs": [],
   "source": [
    "X_cancer = cancer_df.iloc[:, 1:].to_numpy()"
   ]
  },
  {
   "cell_type": "code",
   "execution_count": 0,
   "metadata": {
    "application/vnd.databricks.v1+cell": {
     "cellMetadata": {
      "byteLimit": 2048000,
      "rowLimit": 10000
     },
     "inputWidgets": {},
     "nuid": "23e002df-c2cb-4e36-a457-a7e67047c720",
     "showTitle": false,
     "title": ""
    },
    "id": "SwLqRldBWOlj"
   },
   "outputs": [],
   "source": [
    "X_cancer"
   ]
  },
  {
   "cell_type": "code",
   "execution_count": 0,
   "metadata": {
    "application/vnd.databricks.v1+cell": {
     "cellMetadata": {
      "byteLimit": 2048000,
      "rowLimit": 10000
     },
     "inputWidgets": {},
     "nuid": "726129ec-d220-45d5-b441-67c7dabb2e3d",
     "showTitle": false,
     "title": ""
    },
    "id": "2SMhxiYNWSGb"
   },
   "outputs": [],
   "source": [
    "y_cancer = cancer_df.iloc[:, 0].to_numpy()"
   ]
  },
  {
   "cell_type": "code",
   "execution_count": 0,
   "metadata": {
    "application/vnd.databricks.v1+cell": {
     "cellMetadata": {
      "byteLimit": 2048000,
      "rowLimit": 10000
     },
     "inputWidgets": {},
     "nuid": "bdcf4d20-9f04-42f9-aa94-7dc734684a0d",
     "showTitle": false,
     "title": ""
    }
   },
   "outputs": [],
   "source": [
    "y_cancer"
   ]
  },
  {
   "cell_type": "code",
   "execution_count": 0,
   "metadata": {
    "application/vnd.databricks.v1+cell": {
     "cellMetadata": {
      "byteLimit": 2048000,
      "rowLimit": 10000
     },
     "inputWidgets": {},
     "nuid": "725bbffd-3337-4d33-9121-3f25884736ec",
     "showTitle": false,
     "title": ""
    },
    "id": "1Kov-82JWzMr"
   },
   "outputs": [],
   "source": [
    "from sklearn.preprocessing import StandardScaler\n",
    "scaler_cancer = StandardScaler()"
   ]
  },
  {
   "cell_type": "code",
   "execution_count": 0,
   "metadata": {
    "application/vnd.databricks.v1+cell": {
     "cellMetadata": {
      "byteLimit": 2048000,
      "rowLimit": 10000
     },
     "inputWidgets": {},
     "nuid": "ac11319f-0fe9-45ca-95e5-46cc63e9b8a5",
     "showTitle": false,
     "title": ""
    },
    "id": "AA7nB6SzW6fq"
   },
   "outputs": [],
   "source": [
    "X_cancer = scaler_cancer.fit_transform(X_cancer)"
   ]
  },
  {
   "cell_type": "code",
   "execution_count": 0,
   "metadata": {
    "application/vnd.databricks.v1+cell": {
     "cellMetadata": {
      "byteLimit": 2048000,
      "rowLimit": 10000
     },
     "inputWidgets": {},
     "nuid": "8f1fae12-2b80-4439-bc4c-f96d05ee94bc",
     "showTitle": false,
     "title": ""
    },
    "id": "qQk2Kt6LXClC"
   },
   "outputs": [],
   "source": [
    "from sklearn.preprocessing import LabelEncoder\n",
    "label_encoder_diagnosis = LabelEncoder()"
   ]
  },
  {
   "cell_type": "code",
   "execution_count": 0,
   "metadata": {
    "application/vnd.databricks.v1+cell": {
     "cellMetadata": {
      "byteLimit": 2048000,
      "rowLimit": 10000
     },
     "inputWidgets": {},
     "nuid": "879989ce-003d-4262-afc2-8a71473734da",
     "showTitle": false,
     "title": ""
    },
    "id": "68kCgn_OXd-T"
   },
   "outputs": [],
   "source": [
    "y_cancer = label_encoder_diagnosis.fit_transform(y_cancer)"
   ]
  },
  {
   "cell_type": "code",
   "execution_count": 0,
   "metadata": {
    "application/vnd.databricks.v1+cell": {
     "cellMetadata": {
      "byteLimit": 2048000,
      "rowLimit": 10000
     },
     "inputWidgets": {},
     "nuid": "76151b9b-c88f-4a39-9bfe-df72a98442a8",
     "showTitle": false,
     "title": ""
    },
    "id": "b5-ZlgwaYPn6"
   },
   "outputs": [],
   "source": [
    "y_cancer"
   ]
  },
  {
   "cell_type": "code",
   "execution_count": 0,
   "metadata": {
    "application/vnd.databricks.v1+cell": {
     "cellMetadata": {
      "byteLimit": 2048000,
      "rowLimit": 10000
     },
     "inputWidgets": {},
     "nuid": "fef542f2-9f6b-40e3-b046-8b079f48e7e8",
     "showTitle": false,
     "title": ""
    },
    "id": "HLSOVsKXYRqy"
   },
   "outputs": [],
   "source": [
    "import numpy as np"
   ]
  },
  {
   "cell_type": "code",
   "execution_count": 0,
   "metadata": {
    "application/vnd.databricks.v1+cell": {
     "cellMetadata": {
      "byteLimit": 2048000,
      "rowLimit": 10000
     },
     "inputWidgets": {},
     "nuid": "b85f5ca8-e7c6-415c-b772-02787b138bbb",
     "showTitle": false,
     "title": ""
    }
   },
   "outputs": [],
   "source": [
    "unique_diagnosis = np.unique(cancer_df['diagnosis'].to_numpy())\n",
    "unique_diagnosis"
   ]
  },
  {
   "cell_type": "code",
   "execution_count": 0,
   "metadata": {
    "application/vnd.databricks.v1+cell": {
     "cellMetadata": {
      "byteLimit": 2048000,
      "rowLimit": 10000
     },
     "inputWidgets": {},
     "nuid": "86931b53-8ae0-45f6-8732-8a4bef087ec3",
     "showTitle": false,
     "title": ""
    },
    "id": "A5ptZfabbV8R"
   },
   "outputs": [],
   "source": [
    "from sklearn.model_selection import train_test_split"
   ]
  },
  {
   "cell_type": "code",
   "execution_count": 0,
   "metadata": {
    "application/vnd.databricks.v1+cell": {
     "cellMetadata": {
      "byteLimit": 2048000,
      "rowLimit": 10000
     },
     "inputWidgets": {},
     "nuid": "c08fe313-c551-454e-83fb-2888f7a0e2a7",
     "showTitle": false,
     "title": ""
    },
    "id": "EzT5301WbgxZ"
   },
   "outputs": [],
   "source": [
    "X_cancer_treinamento, X_cancer_teste, y_cancer_treinamento, y_cancer_teste = train_test_split(X_cancer, y_cancer, test_size = 0.15, random_state = 0)"
   ]
  },
  {
   "cell_type": "code",
   "execution_count": 0,
   "metadata": {
    "application/vnd.databricks.v1+cell": {
     "cellMetadata": {
      "byteLimit": 2048000,
      "rowLimit": 10000
     },
     "inputWidgets": {},
     "nuid": "55992456-8fc9-4959-bf93-ca55a4e3d371",
     "showTitle": false,
     "title": ""
    },
    "colab": {
     "base_uri": "https://localhost:8080/"
    },
    "id": "mlk4DjPIbroA",
    "outputId": "bf3dd3f1-9c2c-4a78-9605-f9190301da9e"
   },
   "outputs": [],
   "source": [
    "X_cancer_treinamento.shape, y_cancer_treinamento.shape"
   ]
  },
  {
   "cell_type": "code",
   "execution_count": 0,
   "metadata": {
    "application/vnd.databricks.v1+cell": {
     "cellMetadata": {
      "byteLimit": 2048000,
      "rowLimit": 10000
     },
     "inputWidgets": {},
     "nuid": "9a81a99e-1f35-4a9a-8dc7-a688af9bf0ce",
     "showTitle": false,
     "title": ""
    },
    "colab": {
     "base_uri": "https://localhost:8080/"
    },
    "id": "10u-mnnHbycg",
    "outputId": "bd9d08a6-615b-4db8-d166-0db6353ea550"
   },
   "outputs": [],
   "source": [
    "X_cancer_teste.shape, y_cancer_teste.shape"
   ]
  },
  {
   "cell_type": "markdown",
   "metadata": {
    "application/vnd.databricks.v1+cell": {
     "cellMetadata": {},
     "inputWidgets": {},
     "nuid": "6097f974-54ca-41e8-b43b-6b95fe69296d",
     "showTitle": false,
     "title": ""
    }
   },
   "source": [
    "# Etapa da aplicação de técnicas de Machine Learning"
   ]
  },
  {
   "cell_type": "code",
   "execution_count": 0,
   "metadata": {
    "application/vnd.databricks.v1+cell": {
     "cellMetadata": {
      "byteLimit": 2048000,
      "rowLimit": 10000
     },
     "inputWidgets": {},
     "nuid": "c4d205f8-427d-4380-bd78-1151bdd31b36",
     "showTitle": false,
     "title": ""
    },
    "id": "C896IGbNb48J"
   },
   "outputs": [],
   "source": [
    "import pickle"
   ]
  },
  {
   "cell_type": "code",
   "execution_count": 0,
   "metadata": {
    "application/vnd.databricks.v1+cell": {
     "cellMetadata": {
      "byteLimit": 2048000,
      "rowLimit": 10000
     },
     "inputWidgets": {},
     "nuid": "1397da14-b766-42e1-9d10-b45df0e8f9ea",
     "showTitle": false,
     "title": ""
    },
    "id": "2W__ig5Tb5xB"
   },
   "outputs": [],
   "source": [
    "with open('cancer.pkl', mode = 'wb') as f:\n",
    "  pickle.dump([X_cancer_treinamento, X_cancer_teste, y_cancer_treinamento, y_cancer_teste], f)"
   ]
  },
  {
   "cell_type": "markdown",
   "metadata": {
    "application/vnd.databricks.v1+cell": {
     "cellMetadata": {},
     "inputWidgets": {},
     "nuid": "467dd78d-2316-4ddf-bc7d-8a07587d2999",
     "showTitle": false,
     "title": ""
    },
    "id": "Pv38GIVdjjB2"
   },
   "source": [
    "###Naïve Bayes"
   ]
  },
  {
   "cell_type": "code",
   "execution_count": 0,
   "metadata": {
    "application/vnd.databricks.v1+cell": {
     "cellMetadata": {
      "byteLimit": 2048000,
      "rowLimit": 10000
     },
     "inputWidgets": {},
     "nuid": "e1f67aaf-3fab-483b-aa25-bc5a58d6b9a2",
     "showTitle": false,
     "title": ""
    },
    "id": "y8gNNcd5cEHh"
   },
   "outputs": [],
   "source": [
    "from sklearn.naive_bayes import GaussianNB"
   ]
  },
  {
   "cell_type": "code",
   "execution_count": 0,
   "metadata": {
    "application/vnd.databricks.v1+cell": {
     "cellMetadata": {
      "byteLimit": 2048000,
      "rowLimit": 10000
     },
     "inputWidgets": {},
     "nuid": "56b1432e-58d6-43fd-b8c8-1afa2b004321",
     "showTitle": false,
     "title": ""
    },
    "id": "nKC4CzJMcGZZ"
   },
   "outputs": [],
   "source": [
    "with open('cancer.pkl', 'rb') as f:\n",
    "  X_cancer_treinamento, X_cancer_teste, y_cancer_treinamento, y_cancer_teste = pickle.load(f)"
   ]
  },
  {
   "cell_type": "code",
   "execution_count": 0,
   "metadata": {
    "application/vnd.databricks.v1+cell": {
     "cellMetadata": {
      "byteLimit": 2048000,
      "rowLimit": 10000
     },
     "inputWidgets": {},
     "nuid": "25ba71e8-9015-451c-bff9-815db8e0bbea",
     "showTitle": false,
     "title": ""
    },
    "colab": {
     "base_uri": "https://localhost:8080/"
    },
    "id": "3i8HmRG_cQpZ",
    "outputId": "2d223f15-4b57-4b94-9373-e8481bdf65ef"
   },
   "outputs": [],
   "source": [
    "X_cancer_treinamento.shape, y_cancer_treinamento.shape"
   ]
  },
  {
   "cell_type": "code",
   "execution_count": 0,
   "metadata": {
    "application/vnd.databricks.v1+cell": {
     "cellMetadata": {
      "byteLimit": 2048000,
      "rowLimit": 10000
     },
     "inputWidgets": {},
     "nuid": "d9ff6e68-0b12-4573-ad16-94895ee9e9f8",
     "showTitle": false,
     "title": ""
    },
    "colab": {
     "base_uri": "https://localhost:8080/"
    },
    "id": "FUMtIW67cTR5",
    "outputId": "f20f891f-b866-4a11-9fc6-5184548ddb92"
   },
   "outputs": [],
   "source": [
    "X_cancer_teste.shape, y_cancer_teste.shape"
   ]
  },
  {
   "cell_type": "code",
   "execution_count": 0,
   "metadata": {
    "application/vnd.databricks.v1+cell": {
     "cellMetadata": {
      "byteLimit": 2048000,
      "rowLimit": 10000
     },
     "inputWidgets": {},
     "nuid": "d47b2806-9c59-408f-9358-8470f4a0fe98",
     "showTitle": false,
     "title": ""
    },
    "colab": {
     "base_uri": "https://localhost:8080/"
    },
    "id": "HDu0phFKcUlA",
    "outputId": "906e86bc-3397-4825-be67-f2de7bf38058"
   },
   "outputs": [],
   "source": [
    "naive_cancer = GaussianNB()\n",
    "naive_cancer.fit(X_cancer_treinamento, y_cancer_treinamento)\n",
    "previsoes = naive_cancer.predict(X_cancer_teste)\n",
    "previsoes"
   ]
  },
  {
   "cell_type": "code",
   "execution_count": 0,
   "metadata": {
    "application/vnd.databricks.v1+cell": {
     "cellMetadata": {
      "byteLimit": 2048000,
      "rowLimit": 10000
     },
     "inputWidgets": {},
     "nuid": "edf56dbd-9aaa-4e6e-b00d-666240af6f6a",
     "showTitle": false,
     "title": ""
    },
    "colab": {
     "base_uri": "https://localhost:8080/"
    },
    "id": "RI7Hy7jzciJp",
    "outputId": "f192da32-2b47-4026-a5c0-998e3fd4e390"
   },
   "outputs": [],
   "source": [
    "y_cancer_teste"
   ]
  },
  {
   "cell_type": "code",
   "execution_count": 0,
   "metadata": {
    "application/vnd.databricks.v1+cell": {
     "cellMetadata": {
      "byteLimit": 2048000,
      "rowLimit": 10000
     },
     "inputWidgets": {},
     "nuid": "755f43fe-11b3-4d14-bc51-939dc31a9376",
     "showTitle": false,
     "title": ""
    },
    "id": "XhWbJJVKc65w"
   },
   "outputs": [],
   "source": [
    "from sklearn.metrics import accuracy_score, confusion_matrix, classification_report"
   ]
  },
  {
   "cell_type": "code",
   "execution_count": 0,
   "metadata": {
    "application/vnd.databricks.v1+cell": {
     "cellMetadata": {
      "byteLimit": 2048000,
      "rowLimit": 10000
     },
     "inputWidgets": {},
     "nuid": "5371f21f-6083-4760-ad27-e91a0e5f64c8",
     "showTitle": false,
     "title": ""
    },
    "colab": {
     "base_uri": "https://localhost:8080/"
    },
    "id": "htfWzYA6coQJ",
    "outputId": "df715b41-345c-405b-ed6b-16b09f279af9"
   },
   "outputs": [],
   "source": [
    "accuracy_score(y_cancer_teste, previsoes)"
   ]
  },
  {
   "cell_type": "code",
   "execution_count": 0,
   "metadata": {
    "application/vnd.databricks.v1+cell": {
     "cellMetadata": {
      "byteLimit": 2048000,
      "rowLimit": 10000
     },
     "inputWidgets": {},
     "nuid": "4444c50d-51ca-4538-a5bf-4a2b9bf381ea",
     "showTitle": false,
     "title": ""
    },
    "colab": {
     "base_uri": "https://localhost:8080/"
    },
    "id": "oc_klYYUc_Rg",
    "outputId": "81073491-f2e7-4ade-8628-2535d37d0091"
   },
   "outputs": [],
   "source": [
    "confusion_matrix(y_cancer_teste, previsoes)"
   ]
  },
  {
   "cell_type": "code",
   "execution_count": 0,
   "metadata": {
    "application/vnd.databricks.v1+cell": {
     "cellMetadata": {
      "byteLimit": 2048000,
      "rowLimit": 10000
     },
     "inputWidgets": {},
     "nuid": "2cae5775-ee66-4845-9b77-b5a4edf85cca",
     "showTitle": false,
     "title": ""
    },
    "id": "Xyvi8kZfdDZ4"
   },
   "outputs": [],
   "source": [
    "from yellowbrick.classifier import ConfusionMatrix"
   ]
  },
  {
   "cell_type": "code",
   "execution_count": 0,
   "metadata": {
    "application/vnd.databricks.v1+cell": {
     "cellMetadata": {
      "byteLimit": 2048000,
      "rowLimit": 10000
     },
     "inputWidgets": {},
     "nuid": "08bbae48-1e51-4f43-868d-ffadeeb1c0e8",
     "showTitle": false,
     "title": ""
    },
    "colab": {
     "base_uri": "https://localhost:8080/",
     "height": 496
    },
    "id": "CBwH_IxWdEJg",
    "outputId": "fb12546f-1521-4a4c-8e60-7c7433840daf"
   },
   "outputs": [],
   "source": [
    "cm = ConfusionMatrix(naive_cancer) \n",
    "cm.fit(X_cancer_treinamento, y_cancer_treinamento)\n",
    "cm.score(X_cancer_teste, y_cancer_teste)"
   ]
  },
  {
   "cell_type": "code",
   "execution_count": 0,
   "metadata": {
    "application/vnd.databricks.v1+cell": {
     "cellMetadata": {
      "byteLimit": 2048000,
      "rowLimit": 10000
     },
     "inputWidgets": {},
     "nuid": "8b866eb2-15c7-48fb-a7a3-ed7de41dfc4a",
     "showTitle": false,
     "title": ""
    },
    "colab": {
     "base_uri": "https://localhost:8080/"
    },
    "id": "4JPQVqI4dVLg",
    "outputId": "64f52884-8f7a-463e-fee3-d66a66db1242"
   },
   "outputs": [],
   "source": [
    "print(classification_report(y_cancer_teste, previsoes))"
   ]
  },
  {
   "cell_type": "markdown",
   "metadata": {
    "application/vnd.databricks.v1+cell": {
     "cellMetadata": {},
     "inputWidgets": {},
     "nuid": "103950e7-a7be-40b0-8b03-d3344800dc30",
     "showTitle": false,
     "title": ""
    },
    "id": "TvBHgUYUfO6f"
   },
   "source": [
    "### Árvore de decisão"
   ]
  },
  {
   "cell_type": "code",
   "execution_count": 0,
   "metadata": {
    "application/vnd.databricks.v1+cell": {
     "cellMetadata": {
      "byteLimit": 2048000,
      "rowLimit": 10000
     },
     "inputWidgets": {},
     "nuid": "1daf75bf-fedd-4fbf-92ac-73f90d6042d1",
     "showTitle": false,
     "title": ""
    },
    "id": "AWRRjZJrfRSw"
   },
   "outputs": [],
   "source": [
    "from sklearn.tree import DecisionTreeClassifier"
   ]
  },
  {
   "cell_type": "code",
   "execution_count": 0,
   "metadata": {
    "application/vnd.databricks.v1+cell": {
     "cellMetadata": {
      "byteLimit": 2048000,
      "rowLimit": 10000
     },
     "inputWidgets": {},
     "nuid": "bd959fbd-baf0-435d-badb-f7fcdb6aa831",
     "showTitle": false,
     "title": ""
    },
    "id": "EihQlpBBgzMe"
   },
   "outputs": [],
   "source": [
    "arvore_cancer = DecisionTreeClassifier(criterion='entropy', random_state=0)"
   ]
  },
  {
   "cell_type": "code",
   "execution_count": 0,
   "metadata": {
    "application/vnd.databricks.v1+cell": {
     "cellMetadata": {
      "byteLimit": 2048000,
      "rowLimit": 10000
     },
     "inputWidgets": {},
     "nuid": "228f5b48-c86c-483b-bda0-e468a5c850ab",
     "showTitle": false,
     "title": ""
    },
    "id": "beyDRPYShtYW"
   },
   "outputs": [],
   "source": [
    "arvore_cancer.fit(X_cancer_treinamento, y_cancer_treinamento)"
   ]
  },
  {
   "cell_type": "code",
   "execution_count": 0,
   "metadata": {
    "application/vnd.databricks.v1+cell": {
     "cellMetadata": {
      "byteLimit": 2048000,
      "rowLimit": 10000
     },
     "inputWidgets": {},
     "nuid": "eb50a58c-6d04-4a4f-b12e-1aa01496e9f0",
     "showTitle": false,
     "title": ""
    },
    "colab": {
     "base_uri": "https://localhost:8080/"
    },
    "id": "I5Pe20v3iB8G",
    "outputId": "fe9b2b2d-4447-412f-8b2c-2170e179f632"
   },
   "outputs": [],
   "source": [
    "previsoes = arvore_cancer.predict(X_cancer_teste)\n",
    "previsoes"
   ]
  },
  {
   "cell_type": "code",
   "execution_count": 0,
   "metadata": {
    "application/vnd.databricks.v1+cell": {
     "cellMetadata": {
      "byteLimit": 2048000,
      "rowLimit": 10000
     },
     "inputWidgets": {},
     "nuid": "9fa4fee2-a3f5-4874-af87-90680db80324",
     "showTitle": false,
     "title": ""
    },
    "colab": {
     "base_uri": "https://localhost:8080/"
    },
    "id": "KhIC1tyniUZe",
    "outputId": "4b2672fa-4cee-4a8c-e25e-5a9db172f9fe"
   },
   "outputs": [],
   "source": [
    "y_cancer_teste"
   ]
  },
  {
   "cell_type": "code",
   "execution_count": 0,
   "metadata": {
    "application/vnd.databricks.v1+cell": {
     "cellMetadata": {
      "byteLimit": 2048000,
      "rowLimit": 10000
     },
     "inputWidgets": {},
     "nuid": "fd3bcbd5-8eb4-4acf-9cbf-1f37bed393c7",
     "showTitle": false,
     "title": ""
    },
    "colab": {
     "base_uri": "https://localhost:8080/"
    },
    "id": "2LrindmAibTW",
    "outputId": "8dac1b55-e37a-42c8-ebe2-97291a448d92"
   },
   "outputs": [],
   "source": [
    "accuracy_score(y_cancer_teste, previsoes)"
   ]
  },
  {
   "cell_type": "code",
   "execution_count": 0,
   "metadata": {
    "application/vnd.databricks.v1+cell": {
     "cellMetadata": {
      "byteLimit": 2048000,
      "rowLimit": 10000
     },
     "inputWidgets": {},
     "nuid": "e1d0d979-1b24-40b2-a2ce-e1db646db2a9",
     "showTitle": false,
     "title": ""
    },
    "id": "Q6hU9w9hifCW"
   },
   "outputs": [],
   "source": [
    "from yellowbrick.classifier import ConfusionMatrix"
   ]
  },
  {
   "cell_type": "code",
   "execution_count": 0,
   "metadata": {
    "application/vnd.databricks.v1+cell": {
     "cellMetadata": {
      "byteLimit": 2048000,
      "rowLimit": 10000
     },
     "inputWidgets": {},
     "nuid": "2589a245-1c28-4140-a315-88d12aec9a0c",
     "showTitle": false,
     "title": ""
    },
    "colab": {
     "base_uri": "https://localhost:8080/",
     "height": 496
    },
    "id": "0tCrrxn5ilcO",
    "outputId": "ec842cff-2b60-4012-dcf2-7e7cb9fe490c"
   },
   "outputs": [],
   "source": [
    "cm = ConfusionMatrix(arvore_cancer)\n",
    "cm.fit(X_cancer_treinamento, y_cancer_treinamento)\n",
    "cm.score(X_cancer_teste, y_cancer_teste)"
   ]
  },
  {
   "cell_type": "code",
   "execution_count": 0,
   "metadata": {
    "application/vnd.databricks.v1+cell": {
     "cellMetadata": {
      "byteLimit": 2048000,
      "rowLimit": 10000
     },
     "inputWidgets": {},
     "nuid": "b32a6652-ab3a-413c-9486-fc5b37dd6327",
     "showTitle": false,
     "title": ""
    },
    "colab": {
     "base_uri": "https://localhost:8080/"
    },
    "id": "9AyXiFYtktMV",
    "outputId": "5c3a505d-f352-4e6b-b9e5-cae32079bf26"
   },
   "outputs": [],
   "source": [
    "print(classification_report(y_cancer_teste, previsoes))"
   ]
  },
  {
   "cell_type": "markdown",
   "metadata": {
    "application/vnd.databricks.v1+cell": {
     "cellMetadata": {},
     "inputWidgets": {},
     "nuid": "0ae3f539-736e-4f38-b501-4d7dfd377258",
     "showTitle": false,
     "title": ""
    },
    "id": "cMkuWCHJjHS2"
   },
   "source": [
    "### Random Forest"
   ]
  },
  {
   "cell_type": "code",
   "execution_count": 0,
   "metadata": {
    "application/vnd.databricks.v1+cell": {
     "cellMetadata": {
      "byteLimit": 2048000,
      "rowLimit": 10000
     },
     "inputWidgets": {},
     "nuid": "7f3a2f97-5cd8-4886-a817-7a67c1494caa",
     "showTitle": false,
     "title": ""
    },
    "id": "w1PBlqKvkxcN"
   },
   "outputs": [],
   "source": [
    "from sklearn.ensemble import RandomForestClassifier"
   ]
  },
  {
   "cell_type": "code",
   "execution_count": 0,
   "metadata": {
    "application/vnd.databricks.v1+cell": {
     "cellMetadata": {
      "byteLimit": 2048000,
      "rowLimit": 10000
     },
     "inputWidgets": {},
     "nuid": "4a349494-62ac-4d69-948e-5356a35f74aa",
     "showTitle": false,
     "title": ""
    },
    "id": "8MsTW256k359"
   },
   "outputs": [],
   "source": [
    "random_forest_cancer = RandomForestClassifier(n_estimators=100, criterion='entropy', random_state = 0)"
   ]
  },
  {
   "cell_type": "code",
   "execution_count": 0,
   "metadata": {
    "application/vnd.databricks.v1+cell": {
     "cellMetadata": {
      "byteLimit": 2048000,
      "rowLimit": 10000
     },
     "inputWidgets": {},
     "nuid": "eded8e4d-b6fa-407d-b695-d895186b08e7",
     "showTitle": false,
     "title": ""
    },
    "id": "IeJoGJu-mH9k"
   },
   "outputs": [],
   "source": [
    "random_forest_cancer.fit(X_cancer_treinamento, y_cancer_treinamento)"
   ]
  },
  {
   "cell_type": "code",
   "execution_count": 0,
   "metadata": {
    "application/vnd.databricks.v1+cell": {
     "cellMetadata": {
      "byteLimit": 2048000,
      "rowLimit": 10000
     },
     "inputWidgets": {},
     "nuid": "e32dfd58-cfaf-4dcb-af62-2c802b94b6b0",
     "showTitle": false,
     "title": ""
    },
    "colab": {
     "base_uri": "https://localhost:8080/"
    },
    "id": "eubdD3A2mOMM",
    "outputId": "0e685d6b-98bb-47d2-88a5-08f26df9a188"
   },
   "outputs": [],
   "source": [
    "previsoes = random_forest_cancer.predict(X_cancer_teste) \n",
    "previsoes"
   ]
  },
  {
   "cell_type": "code",
   "execution_count": 0,
   "metadata": {
    "application/vnd.databricks.v1+cell": {
     "cellMetadata": {
      "byteLimit": 2048000,
      "rowLimit": 10000
     },
     "inputWidgets": {},
     "nuid": "e7982ff7-ac3b-4717-bfc0-0b7a1b4df788",
     "showTitle": false,
     "title": ""
    },
    "colab": {
     "base_uri": "https://localhost:8080/"
    },
    "id": "NA0-ON_2mTGs",
    "outputId": "50819333-c961-4546-a698-73fde65f2f0b"
   },
   "outputs": [],
   "source": [
    "y_cancer_teste"
   ]
  },
  {
   "cell_type": "code",
   "execution_count": 0,
   "metadata": {
    "application/vnd.databricks.v1+cell": {
     "cellMetadata": {
      "byteLimit": 2048000,
      "rowLimit": 10000
     },
     "inputWidgets": {},
     "nuid": "9a64e64b-ea8a-419d-90b5-88a7f84cf010",
     "showTitle": false,
     "title": ""
    },
    "colab": {
     "base_uri": "https://localhost:8080/"
    },
    "id": "lw6DqbUhmXHs",
    "outputId": "9848a5e2-8c7c-4fb8-bd7f-f0912cb77e39"
   },
   "outputs": [],
   "source": [
    "accuracy_score(y_cancer_teste, previsoes)"
   ]
  },
  {
   "cell_type": "code",
   "execution_count": 0,
   "metadata": {
    "application/vnd.databricks.v1+cell": {
     "cellMetadata": {
      "byteLimit": 2048000,
      "rowLimit": 10000
     },
     "inputWidgets": {},
     "nuid": "6bd17ccd-2dd6-43ab-9284-729f077f537f",
     "showTitle": false,
     "title": ""
    },
    "colab": {
     "base_uri": "https://localhost:8080/",
     "height": 496
    },
    "id": "y_xfiMRnmeSc",
    "outputId": "257d087c-c90c-458c-d52c-01d15ab3abfd"
   },
   "outputs": [],
   "source": [
    "cm = ConfusionMatrix(random_forest_cancer) \n",
    "cm.fit(X_cancer_treinamento, y_cancer_treinamento)\n",
    "cm.score(X_cancer_teste, y_cancer_teste)"
   ]
  },
  {
   "cell_type": "code",
   "execution_count": 0,
   "metadata": {
    "application/vnd.databricks.v1+cell": {
     "cellMetadata": {
      "byteLimit": 2048000,
      "rowLimit": 10000
     },
     "inputWidgets": {},
     "nuid": "67199d8f-be02-4af6-b487-6f7d1abc580b",
     "showTitle": false,
     "title": ""
    },
    "colab": {
     "base_uri": "https://localhost:8080/"
    },
    "id": "I9bOfU2Qm5E8",
    "outputId": "03669750-3a29-4307-bdfe-f5e185e4daf6"
   },
   "outputs": [],
   "source": [
    "print(classification_report(y_cancer_teste, previsoes))"
   ]
  },
  {
   "cell_type": "markdown",
   "metadata": {
    "application/vnd.databricks.v1+cell": {
     "cellMetadata": {},
     "inputWidgets": {},
     "nuid": "b6f62300-9612-4708-9a96-3996fba9211f",
     "showTitle": false,
     "title": ""
    },
    "id": "FoW4xqySjLiu"
   },
   "source": [
    "###kNN"
   ]
  },
  {
   "cell_type": "code",
   "execution_count": 0,
   "metadata": {
    "application/vnd.databricks.v1+cell": {
     "cellMetadata": {
      "byteLimit": 2048000,
      "rowLimit": 10000
     },
     "inputWidgets": {},
     "nuid": "d8017b3a-1bba-4e10-a6c2-a941bb20df74",
     "showTitle": false,
     "title": ""
    },
    "id": "oxEK3p_BjWRW"
   },
   "outputs": [],
   "source": [
    "from sklearn.neighbors import KNeighborsClassifier"
   ]
  },
  {
   "cell_type": "code",
   "execution_count": 0,
   "metadata": {
    "application/vnd.databricks.v1+cell": {
     "cellMetadata": {
      "byteLimit": 2048000,
      "rowLimit": 10000
     },
     "inputWidgets": {},
     "nuid": "463018e2-02d4-444e-9bc2-ef680739ac01",
     "showTitle": false,
     "title": ""
    },
    "id": "SEr0E1PrjcLe"
   },
   "outputs": [],
   "source": [
    "with open('cancer.pkl', 'rb') as f:\n",
    "  X_cancer_treinamento, X_cancer_teste, y_cancer_treinamento, y_cancer_teste = pickle.load(f)"
   ]
  },
  {
   "cell_type": "code",
   "execution_count": 0,
   "metadata": {
    "application/vnd.databricks.v1+cell": {
     "cellMetadata": {
      "byteLimit": 2048000,
      "rowLimit": 10000
     },
     "inputWidgets": {},
     "nuid": "a4c64e59-4aff-4baf-a851-43f5627fc0c4",
     "showTitle": false,
     "title": ""
    },
    "colab": {
     "base_uri": "https://localhost:8080/"
    },
    "id": "9S5XpPhPj0Uu",
    "outputId": "a4b25735-5056-4d30-b538-1e5ef429adda"
   },
   "outputs": [],
   "source": [
    "X_cancer_treinamento.shape, y_cancer_treinamento.shape"
   ]
  },
  {
   "cell_type": "code",
   "execution_count": 0,
   "metadata": {
    "application/vnd.databricks.v1+cell": {
     "cellMetadata": {
      "byteLimit": 2048000,
      "rowLimit": 10000
     },
     "inputWidgets": {},
     "nuid": "41e0bc3d-2659-4def-9e83-84a5f33db17c",
     "showTitle": false,
     "title": ""
    },
    "colab": {
     "base_uri": "https://localhost:8080/"
    },
    "id": "aqS5sWZLj1Qm",
    "outputId": "400fcb85-d20f-44d4-ef08-aa9441f8dce2"
   },
   "outputs": [],
   "source": [
    "X_cancer_teste.shape, y_cancer_teste.shape"
   ]
  },
  {
   "cell_type": "code",
   "execution_count": 0,
   "metadata": {
    "application/vnd.databricks.v1+cell": {
     "cellMetadata": {
      "byteLimit": 2048000,
      "rowLimit": 10000
     },
     "inputWidgets": {},
     "nuid": "aa928573-bad7-423c-b5d8-5103e5a93fdb",
     "showTitle": false,
     "title": ""
    },
    "id": "USxsZKtuj82F"
   },
   "outputs": [],
   "source": [
    "knn_cancer = KNeighborsClassifier(n_neighbors=10)"
   ]
  },
  {
   "cell_type": "code",
   "execution_count": 0,
   "metadata": {
    "application/vnd.databricks.v1+cell": {
     "cellMetadata": {
      "byteLimit": 2048000,
      "rowLimit": 10000
     },
     "inputWidgets": {},
     "nuid": "c396af66-2c86-4984-854a-ffc7503d1111",
     "showTitle": false,
     "title": ""
    },
    "id": "bJQKpKhij-yW"
   },
   "outputs": [],
   "source": [
    "knn_cancer.fit(X_cancer_treinamento, y_cancer_treinamento)"
   ]
  },
  {
   "cell_type": "code",
   "execution_count": 0,
   "metadata": {
    "application/vnd.databricks.v1+cell": {
     "cellMetadata": {
      "byteLimit": 2048000,
      "rowLimit": 10000
     },
     "inputWidgets": {},
     "nuid": "d137e0df-bc54-451a-aebb-cccb4d10a994",
     "showTitle": false,
     "title": ""
    },
    "colab": {
     "base_uri": "https://localhost:8080/"
    },
    "id": "AyFrltknkFte",
    "outputId": "ac5aad79-f2b9-4014-9484-e78f4c3a2992"
   },
   "outputs": [],
   "source": [
    "previsoes = knn_cancer.predict(X_cancer_teste)\n",
    "previsoes"
   ]
  },
  {
   "cell_type": "code",
   "execution_count": 0,
   "metadata": {
    "application/vnd.databricks.v1+cell": {
     "cellMetadata": {
      "byteLimit": 2048000,
      "rowLimit": 10000
     },
     "inputWidgets": {},
     "nuid": "ec855ee3-4912-4da9-b232-f571daa2c380",
     "showTitle": false,
     "title": ""
    },
    "colab": {
     "base_uri": "https://localhost:8080/"
    },
    "id": "BEn_IybrkMs-",
    "outputId": "025c8c0f-6859-40cf-8ae5-6b2f0ad47a6b"
   },
   "outputs": [],
   "source": [
    "y_cancer_teste"
   ]
  },
  {
   "cell_type": "code",
   "execution_count": 0,
   "metadata": {
    "application/vnd.databricks.v1+cell": {
     "cellMetadata": {
      "byteLimit": 2048000,
      "rowLimit": 10000
     },
     "inputWidgets": {},
     "nuid": "fb2994cb-a02d-4ead-883f-1232228af963",
     "showTitle": false,
     "title": ""
    },
    "colab": {
     "base_uri": "https://localhost:8080/"
    },
    "id": "VElYV9QpkSFe",
    "outputId": "3db05821-4f26-4de9-fbcc-f24a359014f7"
   },
   "outputs": [],
   "source": [
    "from sklearn.metrics import accuracy_score, classification_report\n",
    "accuracy_score(y_cancer_teste, previsoes)"
   ]
  },
  {
   "cell_type": "code",
   "execution_count": 0,
   "metadata": {
    "application/vnd.databricks.v1+cell": {
     "cellMetadata": {
      "byteLimit": 2048000,
      "rowLimit": 10000
     },
     "inputWidgets": {},
     "nuid": "0f092c92-a859-4919-a0b4-dd929190b37c",
     "showTitle": false,
     "title": ""
    },
    "colab": {
     "base_uri": "https://localhost:8080/",
     "height": 496
    },
    "id": "fUm3H6gOkoM2",
    "outputId": "db373ffd-661d-4b38-d589-8bd42b8ea2b8"
   },
   "outputs": [],
   "source": [
    "from yellowbrick.classifier import ConfusionMatrix \n",
    "cm = ConfusionMatrix(knn_cancer) \n",
    "cm.fit(X_cancer_treinamento, y_cancer_treinamento)\n",
    "cm.score(X_cancer_teste, y_cancer_teste)"
   ]
  },
  {
   "cell_type": "code",
   "execution_count": 0,
   "metadata": {
    "application/vnd.databricks.v1+cell": {
     "cellMetadata": {
      "byteLimit": 2048000,
      "rowLimit": 10000
     },
     "inputWidgets": {},
     "nuid": "2f55237a-04d2-4573-b89b-3c763dd1ba28",
     "showTitle": false,
     "title": ""
    },
    "colab": {
     "base_uri": "https://localhost:8080/"
    },
    "id": "_16nocpCkzgu",
    "outputId": "a0baf9fc-22e6-45e4-eb87-8f76c3c3442f"
   },
   "outputs": [],
   "source": [
    "print(classification_report(y_cancer_teste, previsoes))"
   ]
  },
  {
   "cell_type": "markdown",
   "metadata": {
    "application/vnd.databricks.v1+cell": {
     "cellMetadata": {},
     "inputWidgets": {},
     "nuid": "ef9d2bd8-2d00-438d-aa24-9814322efb00",
     "showTitle": false,
     "title": ""
    },
    "id": "H-xHh5a5k-Fn"
   },
   "source": [
    "###SVM"
   ]
  },
  {
   "cell_type": "code",
   "execution_count": 0,
   "metadata": {
    "application/vnd.databricks.v1+cell": {
     "cellMetadata": {
      "byteLimit": 2048000,
      "rowLimit": 10000
     },
     "inputWidgets": {},
     "nuid": "852e1a69-244d-4e17-ad7f-8f12195b1f2e",
     "showTitle": false,
     "title": ""
    },
    "id": "WTxwuw16lAt8"
   },
   "outputs": [],
   "source": [
    "from sklearn.svm import SVC"
   ]
  },
  {
   "cell_type": "code",
   "execution_count": 0,
   "metadata": {
    "application/vnd.databricks.v1+cell": {
     "cellMetadata": {
      "byteLimit": 2048000,
      "rowLimit": 10000
     },
     "inputWidgets": {},
     "nuid": "b7fbb941-78ef-4a6a-9f0a-7edad5880ad6",
     "showTitle": false,
     "title": ""
    },
    "id": "-NZyUMIWmURs"
   },
   "outputs": [],
   "source": [
    "with open('cancer.pkl', 'rb') as f:\n",
    "  X_cancer_treinamento, X_cancer_teste, y_cancer_treinamento, y_cancer_teste = pickle.load(f)"
   ]
  },
  {
   "cell_type": "code",
   "execution_count": 0,
   "metadata": {
    "application/vnd.databricks.v1+cell": {
     "cellMetadata": {
      "byteLimit": 2048000,
      "rowLimit": 10000
     },
     "inputWidgets": {},
     "nuid": "58667b75-924c-45f6-bd47-e30cec75172e",
     "showTitle": false,
     "title": ""
    },
    "id": "r6He2CtLl_PF"
   },
   "outputs": [],
   "source": [
    "svm_cancer = SVC(kernel='linear', random_state=1)"
   ]
  },
  {
   "cell_type": "code",
   "execution_count": 0,
   "metadata": {
    "application/vnd.databricks.v1+cell": {
     "cellMetadata": {
      "byteLimit": 2048000,
      "rowLimit": 10000
     },
     "inputWidgets": {},
     "nuid": "1fa0c50d-7567-48ff-8c58-a382c5cbbb17",
     "showTitle": false,
     "title": ""
    },
    "id": "g0HCgIosmDJ8"
   },
   "outputs": [],
   "source": [
    "svm_cancer.fit(X_cancer_treinamento, y_cancer_treinamento)"
   ]
  },
  {
   "cell_type": "code",
   "execution_count": 0,
   "metadata": {
    "application/vnd.databricks.v1+cell": {
     "cellMetadata": {
      "byteLimit": 2048000,
      "rowLimit": 10000
     },
     "inputWidgets": {},
     "nuid": "da825dba-7763-4089-918a-8d0e2675c8d0",
     "showTitle": false,
     "title": ""
    },
    "colab": {
     "base_uri": "https://localhost:8080/"
    },
    "id": "YbOsMtJRmIQ1",
    "outputId": "6f0b9a3f-64e1-426c-964b-7e295cbf5fdb"
   },
   "outputs": [],
   "source": [
    "previsoes = svm_cancer.predict(X_cancer_teste)  \n",
    "previsoes"
   ]
  },
  {
   "cell_type": "code",
   "execution_count": 0,
   "metadata": {
    "application/vnd.databricks.v1+cell": {
     "cellMetadata": {
      "byteLimit": 2048000,
      "rowLimit": 10000
     },
     "inputWidgets": {},
     "nuid": "442f25fe-2377-420a-9446-ce7e7caa85a3",
     "showTitle": false,
     "title": ""
    },
    "colab": {
     "base_uri": "https://localhost:8080/"
    },
    "id": "yUPtlR-5mNls",
    "outputId": "c3d0d381-5b72-4ae9-a9dd-f7496ad17f93"
   },
   "outputs": [],
   "source": [
    "y_cancer_teste"
   ]
  },
  {
   "cell_type": "code",
   "execution_count": 0,
   "metadata": {
    "application/vnd.databricks.v1+cell": {
     "cellMetadata": {
      "byteLimit": 2048000,
      "rowLimit": 10000
     },
     "inputWidgets": {},
     "nuid": "fd86dd22-f1b8-4df3-8bdd-ea2a2ec9c2a0",
     "showTitle": false,
     "title": ""
    },
    "colab": {
     "base_uri": "https://localhost:8080/"
    },
    "id": "kOfRwLlxmYFc",
    "outputId": "d4ae9076-5295-4a38-96a4-d3ee2a743fa6"
   },
   "outputs": [],
   "source": [
    "from sklearn.metrics import accuracy_score, classification_report\n",
    "accuracy_score(y_cancer_teste, previsoes)"
   ]
  },
  {
   "cell_type": "code",
   "execution_count": 0,
   "metadata": {
    "application/vnd.databricks.v1+cell": {
     "cellMetadata": {
      "byteLimit": 2048000,
      "rowLimit": 10000
     },
     "inputWidgets": {},
     "nuid": "6596c548-cf2d-48c9-8c7c-fe90d94f940a",
     "showTitle": false,
     "title": ""
    },
    "colab": {
     "base_uri": "https://localhost:8080/",
     "height": 496
    },
    "id": "8VX6TGZfmdSc",
    "outputId": "4cdd05df-7286-480f-cad0-f5b4fda42143"
   },
   "outputs": [],
   "source": [
    "from yellowbrick.classifier import ConfusionMatrix \n",
    "cm = ConfusionMatrix(svm_cancer) \n",
    "cm.fit(X_cancer_treinamento, y_cancer_treinamento)  \n",
    "cm.score(X_cancer_teste, y_cancer_teste)"
   ]
  },
  {
   "cell_type": "markdown",
   "metadata": {
    "application/vnd.databricks.v1+cell": {
     "cellMetadata": {},
     "inputWidgets": {},
     "nuid": "46417f73-d9d1-4486-adcc-6b212cc2c784",
     "showTitle": false,
     "title": ""
    },
    "id": "b4bVAC7cosZG"
   },
   "source": [
    "###Redes Neurais"
   ]
  },
  {
   "cell_type": "code",
   "execution_count": 0,
   "metadata": {
    "application/vnd.databricks.v1+cell": {
     "cellMetadata": {
      "byteLimit": 2048000,
      "rowLimit": 10000
     },
     "inputWidgets": {},
     "nuid": "6ba94f7d-b1ef-45b9-8fa5-0277472bcc70",
     "showTitle": false,
     "title": ""
    },
    "id": "SaZQ20UAm0l9"
   },
   "outputs": [],
   "source": [
    "from sklearn.neural_network import MLPClassifier"
   ]
  },
  {
   "cell_type": "code",
   "execution_count": 0,
   "metadata": {
    "application/vnd.databricks.v1+cell": {
     "cellMetadata": {
      "byteLimit": 2048000,
      "rowLimit": 10000
     },
     "inputWidgets": {},
     "nuid": "0bdcbfae-8972-42cf-841d-59cd7a6fd52d",
     "showTitle": false,
     "title": ""
    },
    "id": "9du6LLIJm1l0"
   },
   "outputs": [],
   "source": [
    "with open('cancer.pkl', 'rb') as f:\n",
    "  X_cancer_treinamento, X_cancer_teste, y_cancer_treinamento, y_cancer_teste = pickle.load(f)"
   ]
  },
  {
   "cell_type": "code",
   "execution_count": 0,
   "metadata": {
    "application/vnd.databricks.v1+cell": {
     "cellMetadata": {
      "byteLimit": 2048000,
      "rowLimit": 10000
     },
     "inputWidgets": {},
     "nuid": "25c86afe-6021-431f-b535-4754f52e7c30",
     "showTitle": false,
     "title": ""
    },
    "id": "wLg5xbjsm4VO"
   },
   "outputs": [],
   "source": [
    "rede_neural_cancer = MLPClassifier(max_iter=1500, verbose=True, tol=0.0000100,\n",
    "                                   solver = 'adam', activation = 'relu',\n",
    "                                   hidden_layer_sizes = (20,20))\n",
    "rede_neural_cancer.fit(X_cancer_treinamento, y_cancer_treinamento)"
   ]
  },
  {
   "cell_type": "code",
   "execution_count": 0,
   "metadata": {
    "application/vnd.databricks.v1+cell": {
     "cellMetadata": {
      "byteLimit": 2048000,
      "rowLimit": 10000
     },
     "inputWidgets": {},
     "nuid": "1c68fcf9-d255-4c87-a79d-887d78fdd43a",
     "showTitle": false,
     "title": ""
    },
    "colab": {
     "base_uri": "https://localhost:8080/"
    },
    "id": "OLwy6QEdoRPE",
    "outputId": "ea563d06-84ca-4dd3-cd77-86a1b977e681"
   },
   "outputs": [],
   "source": [
    "previsoes = rede_neural_cancer.predict(X_cancer_teste) \n",
    "previsoes"
   ]
  },
  {
   "cell_type": "code",
   "execution_count": 0,
   "metadata": {
    "application/vnd.databricks.v1+cell": {
     "cellMetadata": {
      "byteLimit": 2048000,
      "rowLimit": 10000
     },
     "inputWidgets": {},
     "nuid": "18de4f78-a191-438d-ba6b-96af8bc654d0",
     "showTitle": false,
     "title": ""
    },
    "colab": {
     "base_uri": "https://localhost:8080/"
    },
    "id": "qioi8ENhoWIk",
    "outputId": "0141ecde-bf8e-4463-d738-e952fc4d1e19"
   },
   "outputs": [],
   "source": [
    "y_cancer_teste"
   ]
  },
  {
   "cell_type": "code",
   "execution_count": 0,
   "metadata": {
    "application/vnd.databricks.v1+cell": {
     "cellMetadata": {
      "byteLimit": 2048000,
      "rowLimit": 10000
     },
     "inputWidgets": {},
     "nuid": "43d9055c-f60f-4dc0-9242-5c66679740ab",
     "showTitle": false,
     "title": ""
    },
    "colab": {
     "base_uri": "https://localhost:8080/"
    },
    "id": "o3ZKIouWoYQU",
    "outputId": "1864ec82-0a99-4297-c5a4-559030efda15"
   },
   "outputs": [],
   "source": [
    "from sklearn.metrics import accuracy_score, classification_report\n",
    "accuracy_score(y_cancer_teste, previsoes)"
   ]
  },
  {
   "cell_type": "code",
   "execution_count": 0,
   "metadata": {
    "application/vnd.databricks.v1+cell": {
     "cellMetadata": {
      "byteLimit": 2048000,
      "rowLimit": 10000
     },
     "inputWidgets": {},
     "nuid": "6bfac814-95e1-4676-9d21-951d75f10895",
     "showTitle": false,
     "title": ""
    },
    "colab": {
     "base_uri": "https://localhost:8080/",
     "height": 496
    },
    "id": "T-LAdxv4ofW8",
    "outputId": "1e40b83b-be85-47e2-b2e2-4d6818197876"
   },
   "outputs": [],
   "source": [
    "from yellowbrick.classifier import ConfusionMatrix \n",
    "cm = ConfusionMatrix(rede_neural_cancer)\n",
    "cm.fit(X_cancer_treinamento, y_cancer_treinamento)\n",
    "cm.score(X_cancer_teste, y_cancer_teste)"
   ]
  },
  {
   "cell_type": "markdown",
   "metadata": {
    "application/vnd.databricks.v1+cell": {
     "cellMetadata": {},
     "inputWidgets": {},
     "nuid": "e0f3a792-8c43-4fed-aa29-61de26fc6f03",
     "showTitle": false,
     "title": ""
    },
    "id": "KaKEQzdyuSlp"
   },
   "source": [
    "###Tuning dos parâmetros com GridSearch"
   ]
  },
  {
   "cell_type": "code",
   "execution_count": 0,
   "metadata": {
    "application/vnd.databricks.v1+cell": {
     "cellMetadata": {
      "byteLimit": 2048000,
      "rowLimit": 10000
     },
     "inputWidgets": {},
     "nuid": "da7d139d-9884-4563-a7c5-a3f8b267b76f",
     "showTitle": false,
     "title": ""
    },
    "id": "eycimGOTuVcB"
   },
   "outputs": [],
   "source": [
    "from sklearn.model_selection import GridSearchCV"
   ]
  },
  {
   "cell_type": "code",
   "execution_count": 0,
   "metadata": {
    "application/vnd.databricks.v1+cell": {
     "cellMetadata": {
      "byteLimit": 2048000,
      "rowLimit": 10000
     },
     "inputWidgets": {},
     "nuid": "a3befde9-1444-4cd9-ac15-a5087e58f7f9",
     "showTitle": false,
     "title": ""
    },
    "id": "rLcoot-luZgq"
   },
   "outputs": [],
   "source": [
    "from sklearn.tree import DecisionTreeClassifier\n",
    "from sklearn.ensemble import RandomForestClassifier\n",
    "from sklearn.neighbors import KNeighborsClassifier\n",
    "from sklearn.svm import SVC\n",
    "from sklearn.neural_network import MLPClassifier"
   ]
  },
  {
   "cell_type": "code",
   "execution_count": 0,
   "metadata": {
    "application/vnd.databricks.v1+cell": {
     "cellMetadata": {
      "byteLimit": 2048000,
      "rowLimit": 10000
     },
     "inputWidgets": {},
     "nuid": "ebfffac4-460e-49ef-8b50-88714a76c056",
     "showTitle": false,
     "title": ""
    },
    "id": "uzMY3amcuXca"
   },
   "outputs": [],
   "source": [
    "import pickle\n",
    "with open('cancer.pkl', 'rb') as f:  \n",
    "  X_cancer_treinamento, y_cancer_treinamento, X_cancer_teste, y_cancer_teste = pickle.load(f)"
   ]
  },
  {
   "cell_type": "code",
   "execution_count": 0,
   "metadata": {
    "application/vnd.databricks.v1+cell": {
     "cellMetadata": {
      "byteLimit": 2048000,
      "rowLimit": 10000
     },
     "inputWidgets": {},
     "nuid": "aa37c8a3-ea4e-4170-8fdf-8ab4769385de",
     "showTitle": false,
     "title": ""
    },
    "colab": {
     "base_uri": "https://localhost:8080/"
    },
    "id": "KJypL3riuebq",
    "outputId": "61302a19-d6af-4f78-f63b-52ea972f135d"
   },
   "outputs": [],
   "source": [
    "X_cancer_treinamento.shape, y_cancer_treinamento.shape"
   ]
  },
  {
   "cell_type": "code",
   "execution_count": 0,
   "metadata": {
    "application/vnd.databricks.v1+cell": {
     "cellMetadata": {
      "byteLimit": 2048000,
      "rowLimit": 10000
     },
     "inputWidgets": {},
     "nuid": "931edffb-d164-4396-9872-be0d15bb3c50",
     "showTitle": false,
     "title": ""
    },
    "colab": {
     "base_uri": "https://localhost:8080/"
    },
    "id": "ZOD0N8kHufqK",
    "outputId": "46c72d26-5b6c-45d1-9414-fa335c31280c"
   },
   "outputs": [],
   "source": [
    "X_cancer_teste.shape, y_cancer_teste.shape"
   ]
  },
  {
   "cell_type": "markdown",
   "metadata": {
    "application/vnd.databricks.v1+cell": {
     "cellMetadata": {},
     "inputWidgets": {},
     "nuid": "eeb43200-4f66-425e-9266-029586c1ce6b",
     "showTitle": false,
     "title": ""
    },
    "id": "5k0d1S3LulV5"
   },
   "source": [
    "###Na utilização de validação cruzada, nós utilizamos a base de dados inteira pois, durante o processo de validação cruzada o algoritmo fará a quebra da base de dados"
   ]
  },
  {
   "cell_type": "code",
   "execution_count": 0,
   "metadata": {
    "application/vnd.databricks.v1+cell": {
     "cellMetadata": {
      "byteLimit": 2048000,
      "rowLimit": 10000
     },
     "inputWidgets": {},
     "nuid": "f1f2d415-d811-4940-8c1e-ebb01a8a7c35",
     "showTitle": false,
     "title": ""
    }
   },
   "outputs": [],
   "source": [
    "X_cancer = np.concatenate((X_cancer_treinamento, X_cancer_teste), axis = 0)  # Concatenando a base de dados para que ela fique completa (axis = 0 -> linhas)\n",
    "X_cancer.shape"
   ]
  },
  {
   "cell_type": "code",
   "execution_count": 0,
   "metadata": {
    "application/vnd.databricks.v1+cell": {
     "cellMetadata": {
      "byteLimit": 2048000,
      "rowLimit": 10000
     },
     "inputWidgets": {},
     "nuid": "f0ca5c43-7d0e-4743-8571-b8a454aa75ee",
     "showTitle": false,
     "title": ""
    },
    "id": "06fRTqnlw4Cg"
   },
   "outputs": [],
   "source": [
    "X_cancer"
   ]
  },
  {
   "cell_type": "code",
   "execution_count": 0,
   "metadata": {
    "application/vnd.databricks.v1+cell": {
     "cellMetadata": {
      "byteLimit": 2048000,
      "rowLimit": 10000
     },
     "inputWidgets": {},
     "nuid": "8cfd2d78-8158-4ac0-9278-f762093baf5b",
     "showTitle": false,
     "title": ""
    },
    "colab": {
     "base_uri": "https://localhost:8080/"
    },
    "id": "msNKKbu-w4lg",
    "outputId": "0f44cdd8-b5c0-4d63-bdea-9dbeeba6e55c"
   },
   "outputs": [],
   "source": [
    "y_cancer = np.concatenate((y_cancer_treinamento, y_cancer_teste), axis = 0)  # Concatenando a base de dados para que ela fique completa (axis = 0 -> linhas)\n",
    "y_cancer.shape"
   ]
  },
  {
   "cell_type": "code",
   "execution_count": 0,
   "metadata": {
    "application/vnd.databricks.v1+cell": {
     "cellMetadata": {
      "byteLimit": 2048000,
      "rowLimit": 10000
     },
     "inputWidgets": {},
     "nuid": "72ebe3da-92dc-4e05-8799-40970c15cadb",
     "showTitle": false,
     "title": ""
    },
    "id": "lLT-OPFRxAWJ"
   },
   "outputs": [],
   "source": [
    "y_cancer"
   ]
  },
  {
   "cell_type": "markdown",
   "metadata": {
    "application/vnd.databricks.v1+cell": {
     "cellMetadata": {},
     "inputWidgets": {},
     "nuid": "40841d42-5d06-4af7-ba89-c65436f6d697",
     "showTitle": false,
     "title": ""
    },
    "id": "cazDI_scEoK4"
   },
   "source": [
    "###Árvore de decisão"
   ]
  },
  {
   "cell_type": "code",
   "execution_count": 0,
   "metadata": {
    "application/vnd.databricks.v1+cell": {
     "cellMetadata": {
      "byteLimit": 2048000,
      "rowLimit": 10000
     },
     "inputWidgets": {},
     "nuid": "b3a567ed-55cb-4757-9dbc-2d79ccfd9444",
     "showTitle": false,
     "title": ""
    },
    "id": "0uadF3LAEqqw"
   },
   "outputs": [],
   "source": [
    "parametros = {'criterion': ['gini', 'entropy'],\n",
    "              'splitter': ['best', 'random'],  \n",
    "              'min_samples_split': [2, 5, 10],  \n",
    "              'min_samples_leaf': [1, 5, 10]}"
   ]
  },
  {
   "cell_type": "code",
   "execution_count": 0,
   "metadata": {
    "application/vnd.databricks.v1+cell": {
     "cellMetadata": {
      "byteLimit": 2048000,
      "rowLimit": 10000
     },
     "inputWidgets": {},
     "nuid": "fc1d499a-ff87-48e9-b994-f3c53bce656e",
     "showTitle": false,
     "title": ""
    },
    "colab": {
     "base_uri": "https://localhost:8080/"
    },
    "id": "5fa3lWjGEwuY",
    "outputId": "27a85d90-6ba3-4b0c-947f-84976523fa93"
   },
   "outputs": [],
   "source": [
    "grid_search = GridSearchCV(estimator=DecisionTreeClassifier(), param_grid=parametros)\n",
    "grid_search.fit(X_cancer, y_cancer)\n",
    "melhores_parametros = grid_search.best_params_\n",
    "melhor_resultado = grid_search.best_score_\n",
    "print(melhores_parametros)\n",
    "print(melhor_resultado)"
   ]
  },
  {
   "cell_type": "markdown",
   "metadata": {
    "application/vnd.databricks.v1+cell": {
     "cellMetadata": {},
     "inputWidgets": {},
     "nuid": "6708916a-1c66-489d-a77e-6d0586dbcb37",
     "showTitle": false,
     "title": ""
    },
    "id": "mnVwxIStE1rI"
   },
   "source": [
    "###Random Forest"
   ]
  },
  {
   "cell_type": "code",
   "execution_count": 0,
   "metadata": {
    "application/vnd.databricks.v1+cell": {
     "cellMetadata": {
      "byteLimit": 2048000,
      "rowLimit": 10000
     },
     "inputWidgets": {},
     "nuid": "f3cc7675-acc6-4aa5-9b1e-fb6139931b95",
     "showTitle": false,
     "title": ""
    },
    "id": "LOlRf-_5E7do"
   },
   "outputs": [],
   "source": [
    "parametros = {'criterion': ['gini', 'entropy'],  \n",
    "              'n_estimators': [10, 40, 100, 150],  \n",
    "              'min_samples_split': [2, 5, 10],  \n",
    "              'min_samples_leaf': [1, 5, 10]}"
   ]
  },
  {
   "cell_type": "code",
   "execution_count": 0,
   "metadata": {
    "application/vnd.databricks.v1+cell": {
     "cellMetadata": {
      "byteLimit": 2048000,
      "rowLimit": 10000
     },
     "inputWidgets": {},
     "nuid": "d400d5b7-ce15-413c-a8c6-d37ee8e1783a",
     "showTitle": false,
     "title": ""
    },
    "colab": {
     "base_uri": "https://localhost:8080/"
    },
    "id": "mGiUI4g_E96o",
    "outputId": "0a5bd7a7-7683-4265-958c-ea43df3b5cfe"
   },
   "outputs": [],
   "source": [
    "grid_search = GridSearchCV(estimator=RandomForestClassifier(), param_grid=parametros) \n",
    "grid_search.fit(X_cancer, y_cancer)\n",
    "melhores_parametros = grid_search.best_params_\n",
    "melhor_resultado = grid_search.best_score_\n",
    "print(melhores_parametros)\n",
    "print(melhor_resultado)"
   ]
  },
  {
   "cell_type": "markdown",
   "metadata": {
    "application/vnd.databricks.v1+cell": {
     "cellMetadata": {},
     "inputWidgets": {},
     "nuid": "c3677831-40e1-4db2-babc-412f05d97872",
     "showTitle": false,
     "title": ""
    },
    "id": "ITU77tpnFEDA"
   },
   "source": [
    "###kNN"
   ]
  },
  {
   "cell_type": "code",
   "execution_count": 0,
   "metadata": {
    "application/vnd.databricks.v1+cell": {
     "cellMetadata": {
      "byteLimit": 2048000,
      "rowLimit": 10000
     },
     "inputWidgets": {},
     "nuid": "36f2b3f6-2f8d-43a0-b277-fdb47044932f",
     "showTitle": false,
     "title": ""
    },
    "id": "1PUCf80zFFxq"
   },
   "outputs": [],
   "source": [
    "parametros = {'n_neighbors': [3, 5, 10, 20],\n",
    "              'p': [1, 2]}"
   ]
  },
  {
   "cell_type": "code",
   "execution_count": 0,
   "metadata": {
    "application/vnd.databricks.v1+cell": {
     "cellMetadata": {
      "byteLimit": 2048000,
      "rowLimit": 10000
     },
     "inputWidgets": {},
     "nuid": "3f303c27-d8c4-406c-8e90-724e13fb1974",
     "showTitle": false,
     "title": ""
    },
    "colab": {
     "base_uri": "https://localhost:8080/"
    },
    "id": "2nI3qGH5FLQo",
    "outputId": "5b25cc84-1b46-41b9-f8b4-2f90766aab52"
   },
   "outputs": [],
   "source": [
    "grid_search = GridSearchCV(estimator=KNeighborsClassifier(), param_grid=parametros)\n",
    "grid_search.fit(X_cancer, y_cancer)\n",
    "melhores_parametros = grid_search.best_params_\n",
    "melhor_resultado = grid_search.best_score_\n",
    "print(melhores_parametros)\n",
    "print(melhor_resultado)"
   ]
  },
  {
   "cell_type": "markdown",
   "metadata": {
    "application/vnd.databricks.v1+cell": {
     "cellMetadata": {},
     "inputWidgets": {},
     "nuid": "a49eb624-5f34-41c5-a0f0-8120451b48d3",
     "showTitle": false,
     "title": ""
    },
    "id": "REwZGWbyFSdT"
   },
   "source": [
    "###SVM"
   ]
  },
  {
   "cell_type": "code",
   "execution_count": 0,
   "metadata": {
    "application/vnd.databricks.v1+cell": {
     "cellMetadata": {
      "byteLimit": 2048000,
      "rowLimit": 10000
     },
     "inputWidgets": {},
     "nuid": "945f27a7-bb9a-4edd-9ca5-cb3ddb8545c9",
     "showTitle": false,
     "title": ""
    },
    "id": "QdJDUvvMFYiv"
   },
   "outputs": [],
   "source": [
    "parametros = {'tol': [0.001, 0.0001, 0.00001],  \n",
    "              'C': [1.0, 1.5, 2.0],  \n",
    "              'kernel': ['rbf', 'linear', 'poly', 'sigmoid']}"
   ]
  },
  {
   "cell_type": "code",
   "execution_count": 0,
   "metadata": {
    "application/vnd.databricks.v1+cell": {
     "cellMetadata": {
      "byteLimit": 2048000,
      "rowLimit": 10000
     },
     "inputWidgets": {},
     "nuid": "4d0bf7e6-248b-4e2e-8279-b84ca1e9f466",
     "showTitle": false,
     "title": ""
    },
    "colab": {
     "base_uri": "https://localhost:8080/"
    },
    "id": "X2Gp2bItFc4n",
    "outputId": "6187943c-3918-4e2c-ff86-5133f8f8613f"
   },
   "outputs": [],
   "source": [
    "grid_search = GridSearchCV(estimator=SVC(), param_grid=parametros)  \n",
    "grid_search.fit(X_cancer, y_cancer)\n",
    "melhores_parametros = grid_search.best_params_\n",
    "melhor_resultado = grid_search.best_score_\n",
    "print(melhores_parametros)\n",
    "print(melhor_resultado)"
   ]
  },
  {
   "cell_type": "markdown",
   "metadata": {
    "application/vnd.databricks.v1+cell": {
     "cellMetadata": {},
     "inputWidgets": {},
     "nuid": "cb3f15d7-3662-441f-b51d-5518e4413c5b",
     "showTitle": false,
     "title": ""
    },
    "id": "24LYqW-eFgu_"
   },
   "source": [
    "###Redes neurais"
   ]
  },
  {
   "cell_type": "code",
   "execution_count": 0,
   "metadata": {
    "application/vnd.databricks.v1+cell": {
     "cellMetadata": {
      "byteLimit": 2048000,
      "rowLimit": 10000
     },
     "inputWidgets": {},
     "nuid": "5b6a243d-a4cf-4c4b-853b-55615dccc600",
     "showTitle": false,
     "title": ""
    },
    "id": "_Zdtu-irFvm_"
   },
   "outputs": [],
   "source": [
    "parametros = {'activation': ['relu', 'logistic', 'tahn'],\n",
    "              'solver': ['adam', 'sgd'],\n",
    "              'batch_size': [10, 56]}"
   ]
  },
  {
   "cell_type": "code",
   "execution_count": 0,
   "metadata": {
    "application/vnd.databricks.v1+cell": {
     "cellMetadata": {
      "byteLimit": 2048000,
      "rowLimit": 10000
     },
     "inputWidgets": {},
     "nuid": "3df112ec-15ae-4c73-a5e7-f39c1d468603",
     "showTitle": false,
     "title": ""
    },
    "id": "E_1qbIhJFzaX"
   },
   "outputs": [],
   "source": [
    "grid_search = GridSearchCV(estimator=MLPClassifier(), param_grid=parametros)\n",
    "grid_search.fit(X_cancer, y_cancer)\n",
    "melhores_parametros = grid_search.best_params_\n",
    "melhor_resultado = grid_search.best_score_"
   ]
  },
  {
   "cell_type": "code",
   "execution_count": 0,
   "metadata": {
    "application/vnd.databricks.v1+cell": {
     "cellMetadata": {
      "byteLimit": 2048000,
      "rowLimit": 10000
     },
     "inputWidgets": {},
     "nuid": "ee73c49e-861a-484e-8f30-b9fd9b5c7a87",
     "showTitle": false,
     "title": ""
    },
    "colab": {
     "base_uri": "https://localhost:8080/"
    },
    "id": "if9isbLrF2Sn",
    "outputId": "9cf68bb9-a4ec-4ceb-e71a-86574f405f51"
   },
   "outputs": [],
   "source": [
    "print(melhores_parametros)\n",
    "print(melhor_resultado)"
   ]
  }
 ],
 "metadata": {
  "application/vnd.databricks.v1+notebook": {
   "dashboards": [],
   "environmentMetadata": null,
   "language": "python",
   "notebookMetadata": {
    "pythonIndentUnit": 4
   },
   "notebookName": "Machine_Learning_Cancer",
   "widgets": {}
  },
  "colab": {
   "collapsed_sections": [
    "Pv38GIVdjjB2",
    "TvBHgUYUfO6f",
    "cMkuWCHJjHS2",
    "FoW4xqySjLiu",
    "H-xHh5a5k-Fn",
    "b4bVAC7cosZG"
   ],
   "provenance": []
  },
  "kernelspec": {
   "display_name": "Python 3",
   "name": "python3"
  },
  "language_info": {
   "name": "python"
  }
 },
 "nbformat": 4,
 "nbformat_minor": 0
}
