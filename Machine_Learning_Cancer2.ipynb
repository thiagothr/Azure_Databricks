{
 "cells": [
  {
   "cell_type": "markdown",
   "metadata": {
    "application/vnd.databricks.v1+cell": {
     "cellMetadata": {},
     "inputWidgets": {},
     "nuid": "3ab41cb2-970b-4fbf-b85d-c24a116473ac",
     "showTitle": false,
     "title": ""
    },
    "id": "aJCA6z-1g55U"
   },
   "source": [
    "## Tratamento e Análise exploratória dos dados usando a API do pandas no spark"
   ]
  },
  {
   "cell_type": "code",
   "execution_count": 0,
   "metadata": {
    "application/vnd.databricks.v1+cell": {
     "cellMetadata": {
      "byteLimit": 2048000,
      "rowLimit": 10000
     },
     "inputWidgets": {},
     "nuid": "e8642ead-3986-4df7-b0f9-4038490c2082",
     "showTitle": false,
     "title": ""
    },
    "id": "9i_UVxlz5Akh"
   },
   "outputs": [],
   "source": [
    "import pyspark.pandas as ps"
   ]
  },
  {
   "cell_type": "code",
   "execution_count": 0,
   "metadata": {
    "application/vnd.databricks.v1+cell": {
     "cellMetadata": {
      "byteLimit": 2048000,
      "rowLimit": 10000
     },
     "inputWidgets": {},
     "nuid": "41719d07-91bd-4365-b3f6-fa32bd543e4a",
     "showTitle": false,
     "title": ""
    },
    "id": "IVSFpJO55FUR"
   },
   "outputs": [],
   "source": [
    "base_dummies = ps.read_csv('/mnt/Databricks_Dados/bronze/Dados_dummies.csv')"
   ]
  },
  {
   "cell_type": "code",
   "execution_count": 0,
   "metadata": {
    "application/vnd.databricks.v1+cell": {
     "cellMetadata": {
      "byteLimit": 2048000,
      "rowLimit": 10000
     },
     "inputWidgets": {},
     "nuid": "6e6b7203-ae62-4227-94d7-0993f98fef8b",
     "showTitle": false,
     "title": ""
    },
    "id": "jv-TDnMU5GzI"
   },
   "outputs": [],
   "source": [
    "base_dummies.head()"
   ]
  },
  {
   "cell_type": "code",
   "execution_count": 0,
   "metadata": {
    "application/vnd.databricks.v1+cell": {
     "cellMetadata": {
      "byteLimit": 2048000,
      "rowLimit": 10000
     },
     "inputWidgets": {},
     "nuid": "c3ca6c08-80ed-4805-9730-6060156a00b5",
     "showTitle": false,
     "title": ""
    }
   },
   "outputs": [],
   "source": [
    "base_dummies.info()"
   ]
  },
  {
   "cell_type": "code",
   "execution_count": 0,
   "metadata": {
    "application/vnd.databricks.v1+cell": {
     "cellMetadata": {
      "byteLimit": 2048000,
      "rowLimit": 10000
     },
     "inputWidgets": {},
     "nuid": "eb45a88e-96bd-4930-bbf3-237d006889e4",
     "showTitle": false,
     "title": ""
    },
    "id": "v-lRS6DK5IBw"
   },
   "outputs": [],
   "source": [
    "base_dummies.columns"
   ]
  },
  {
   "cell_type": "code",
   "execution_count": 0,
   "metadata": {
    "application/vnd.databricks.v1+cell": {
     "cellMetadata": {
      "byteLimit": 2048000,
      "rowLimit": 10000
     },
     "inputWidgets": {},
     "nuid": "66cb091d-acda-4c85-b796-2996ded49596",
     "showTitle": false,
     "title": ""
    },
    "id": "430GS3oO5LRo"
   },
   "outputs": [],
   "source": [
    "base_dummies = base_dummies.drop('Nome', axis=1)"
   ]
  },
  {
   "cell_type": "code",
   "execution_count": 0,
   "metadata": {
    "application/vnd.databricks.v1+cell": {
     "cellMetadata": {
      "byteLimit": 2048000,
      "rowLimit": 10000
     },
     "inputWidgets": {},
     "nuid": "ad95e529-c760-4280-9bf3-9af515e88da3",
     "showTitle": false,
     "title": ""
    },
    "id": "FHWu9dG25NEw"
   },
   "outputs": [],
   "source": [
    "type(base_dummies)"
   ]
  },
  {
   "cell_type": "code",
   "execution_count": 0,
   "metadata": {
    "application/vnd.databricks.v1+cell": {
     "cellMetadata": {
      "byteLimit": 2048000,
      "rowLimit": 10000
     },
     "inputWidgets": {},
     "nuid": "cc8faf8d-a2c4-437f-a5fa-d78d66de9b86",
     "showTitle": false,
     "title": ""
    },
    "id": "d5fE2hF85eGB"
   },
   "outputs": [],
   "source": [
    "X_dummies = base_dummies.iloc[:, 1:].values"
   ]
  },
  {
   "cell_type": "code",
   "execution_count": 0,
   "metadata": {
    "application/vnd.databricks.v1+cell": {
     "cellMetadata": {},
     "inputWidgets": {},
     "nuid": "8ece266a-9a67-4839-beee-85e9df75b6ad",
     "showTitle": false,
     "title": ""
    },
    "id": "2wNKleKz5eiB"
   },
   "outputs": [],
   "source": [
    "# X_dummies"
   ]
  },
  {
   "cell_type": "code",
   "execution_count": 0,
   "metadata": {
    "application/vnd.databricks.v1+cell": {
     "cellMetadata": {},
     "inputWidgets": {},
     "nuid": "0f6a01f4-ff9a-4c49-9e29-4ddb3355804e",
     "showTitle": false,
     "title": ""
    },
    "id": "gS8NJbiz3OFX"
   },
   "outputs": [],
   "source": [
    "# X_dummies = X_dummies.reshape(1350, -1)"
   ]
  },
  {
   "cell_type": "code",
   "execution_count": 0,
   "metadata": {
    "application/vnd.databricks.v1+cell": {
     "cellMetadata": {},
     "inputWidgets": {},
     "nuid": "7a1b6b22-ebc3-489d-ab22-7f24096eadf5",
     "showTitle": false,
     "title": ""
    },
    "id": "UZecoNafBqiZ"
   },
   "outputs": [],
   "source": [
    "# X_dummies = X_dummies.reshape(-1)"
   ]
  },
  {
   "cell_type": "code",
   "execution_count": 0,
   "metadata": {
    "application/vnd.databricks.v1+cell": {
     "cellMetadata": {
      "byteLimit": 2048000,
      "rowLimit": 10000
     },
     "inputWidgets": {},
     "nuid": "a638b146-4648-4175-bb40-7086366184b1",
     "showTitle": false,
     "title": ""
    },
    "id": "6POxwpJC5gHw"
   },
   "outputs": [],
   "source": [
    "y_dummies = base_dummies.iloc[:, 0].values"
   ]
  },
  {
   "cell_type": "code",
   "execution_count": 0,
   "metadata": {
    "application/vnd.databricks.v1+cell": {
     "cellMetadata": {
      "byteLimit": 2048000,
      "rowLimit": 10000
     },
     "inputWidgets": {},
     "nuid": "ed83f8c3-158a-465e-a1c2-9d1db87b9d69",
     "showTitle": false,
     "title": ""
    },
    "colab": {
     "base_uri": "https://localhost:8080/"
    },
    "id": "5A5w-l975pjo",
    "outputId": "e7e2971f-7a10-44fd-95fc-ff3c2c11e1ba"
   },
   "outputs": [],
   "source": [
    "y_dummies"
   ]
  },
  {
   "cell_type": "code",
   "execution_count": 0,
   "metadata": {
    "application/vnd.databricks.v1+cell": {
     "cellMetadata": {},
     "inputWidgets": {},
     "nuid": "0883ab98-12f9-4ddf-ba73-6d599507bafb",
     "showTitle": false,
     "title": ""
    },
    "id": "LOUFlFF_5Rm3"
   },
   "outputs": [],
   "source": [
    "# y_dummies = y_dummies.reshape(1, -1)"
   ]
  },
  {
   "cell_type": "code",
   "execution_count": 0,
   "metadata": {
    "application/vnd.databricks.v1+cell": {
     "cellMetadata": {
      "byteLimit": 2048000,
      "rowLimit": 10000
     },
     "inputWidgets": {},
     "nuid": "a37fe58c-5841-407c-881f-48c221e74852",
     "showTitle": false,
     "title": ""
    },
    "id": "3X-9iaYK5uSY"
   },
   "outputs": [],
   "source": [
    "from sklearn.preprocessing import LabelEncoder\n",
    "label_encoder_diagnosis = LabelEncoder()"
   ]
  },
  {
   "cell_type": "code",
   "execution_count": 0,
   "metadata": {
    "application/vnd.databricks.v1+cell": {
     "cellMetadata": {
      "byteLimit": 2048000,
      "rowLimit": 10000
     },
     "inputWidgets": {},
     "nuid": "11cf0967-9d6c-474d-ab15-39394d20a566",
     "showTitle": false,
     "title": ""
    },
    "id": "VazKvJKa6StY"
   },
   "outputs": [],
   "source": [
    "y_dummies = label_encoder_diagnosis.fit_transform(y_dummies)"
   ]
  },
  {
   "cell_type": "code",
   "execution_count": 0,
   "metadata": {
    "application/vnd.databricks.v1+cell": {
     "cellMetadata": {
      "byteLimit": 2048000,
      "rowLimit": 10000
     },
     "inputWidgets": {},
     "nuid": "dfff4dd2-6e9e-4278-9f40-5d8f9463899e",
     "showTitle": false,
     "title": ""
    },
    "colab": {
     "base_uri": "https://localhost:8080/"
    },
    "id": "xbGlhWMX8L5A",
    "outputId": "0c5e8246-cd9f-4d3b-8866-a3cb27d092c9"
   },
   "outputs": [],
   "source": [
    "y_dummies"
   ]
  },
  {
   "cell_type": "code",
   "execution_count": 0,
   "metadata": {
    "application/vnd.databricks.v1+cell": {
     "cellMetadata": {
      "byteLimit": 2048000,
      "rowLimit": 10000
     },
     "inputWidgets": {},
     "nuid": "d0a5f972-e550-4f10-bbc0-f5ca89f929e3",
     "showTitle": false,
     "title": ""
    },
    "id": "ye4hq2ZsG_9x"
   },
   "outputs": [],
   "source": [
    "X_dummies.shape"
   ]
  },
  {
   "cell_type": "code",
   "execution_count": 0,
   "metadata": {
    "application/vnd.databricks.v1+cell": {
     "cellMetadata": {
      "byteLimit": 2048000,
      "rowLimit": 10000
     },
     "inputWidgets": {},
     "nuid": "fa015590-94b6-4e8c-ab09-cd6966aee48d",
     "showTitle": false,
     "title": ""
    },
    "id": "-m5aqg8AHI_Y"
   },
   "outputs": [],
   "source": [
    "# X_dummies = X_dummies.flatten()  # Transformando array (270, 5) em array 1d array"
   ]
  },
  {
   "cell_type": "code",
   "execution_count": 0,
   "metadata": {
    "application/vnd.databricks.v1+cell": {
     "cellMetadata": {},
     "inputWidgets": {},
     "nuid": "a589210c-3ea4-4980-9ba8-2036cad73c25",
     "showTitle": false,
     "title": ""
    },
    "id": "A7DKvnkOISSY"
   },
   "outputs": [],
   "source": [
    "# X_dummies.reshape(1, -1)"
   ]
  },
  {
   "cell_type": "code",
   "execution_count": 0,
   "metadata": {
    "application/vnd.databricks.v1+cell": {
     "cellMetadata": {
      "byteLimit": 2048000,
      "rowLimit": 10000
     },
     "inputWidgets": {},
     "nuid": "93d480ad-2e1b-47b4-8a8a-e94cbf806e30",
     "showTitle": false,
     "title": ""
    },
    "id": "Zpn7SLBkIIW5"
   },
   "outputs": [],
   "source": [
    "from sklearn.preprocessing import OneHotEncoder\n",
    "one_encoder_diagnosis = OneHotEncoder()"
   ]
  },
  {
   "cell_type": "code",
   "execution_count": 0,
   "metadata": {
    "application/vnd.databricks.v1+cell": {
     "cellMetadata": {
      "byteLimit": 2048000,
      "rowLimit": 10000
     },
     "inputWidgets": {},
     "nuid": "958d2d8d-bd76-4d05-abb6-8b02921eb1ca",
     "showTitle": false,
     "title": ""
    },
    "id": "iOJDgSbSGhTZ"
   },
   "outputs": [],
   "source": [
    "X_dummies = one_encoder_diagnosis.fit_transform(X_dummies)"
   ]
  },
  {
   "cell_type": "code",
   "execution_count": 0,
   "metadata": {
    "application/vnd.databricks.v1+cell": {
     "cellMetadata": {},
     "inputWidgets": {},
     "nuid": "67bff3d2-8b69-4122-b70c-7a509f648f9c",
     "showTitle": false,
     "title": ""
    },
    "id": "abOJM6CfGh2Y"
   },
   "outputs": [],
   "source": [
    "# X_dummies"
   ]
  },
  {
   "cell_type": "code",
   "execution_count": 0,
   "metadata": {
    "application/vnd.databricks.v1+cell": {
     "cellMetadata": {
      "byteLimit": 2048000,
      "rowLimit": 10000
     },
     "inputWidgets": {},
     "nuid": "1fa7a670-d08b-4714-b073-84c9cd2303dc",
     "showTitle": false,
     "title": ""
    },
    "id": "DTFloelb5sco"
   },
   "outputs": [],
   "source": [
    "from sklearn.preprocessing import StandardScaler\n",
    "scaler_cancer = StandardScaler(with_mean=False)"
   ]
  },
  {
   "cell_type": "code",
   "execution_count": 0,
   "metadata": {
    "application/vnd.databricks.v1+cell": {
     "cellMetadata": {
      "byteLimit": 2048000,
      "rowLimit": 10000
     },
     "inputWidgets": {},
     "nuid": "ede89ecf-3564-47f7-9b0e-ab8e284d945a",
     "showTitle": false,
     "title": ""
    },
    "id": "XT3n-dSF5wBA"
   },
   "outputs": [],
   "source": [
    "X_dummies = scaler_cancer.fit_transform(X_dummies)"
   ]
  },
  {
   "cell_type": "code",
   "execution_count": 0,
   "metadata": {
    "application/vnd.databricks.v1+cell": {
     "cellMetadata": {},
     "inputWidgets": {},
     "nuid": "235fb3c5-bedb-4d50-b681-86b82eee98eb",
     "showTitle": false,
     "title": ""
    },
    "id": "3WbTbf4W5xdJ"
   },
   "outputs": [],
   "source": [
    "# X_dummies"
   ]
  },
  {
   "cell_type": "code",
   "execution_count": 0,
   "metadata": {
    "application/vnd.databricks.v1+cell": {
     "cellMetadata": {
      "byteLimit": 2048000,
      "rowLimit": 10000
     },
     "inputWidgets": {},
     "nuid": "bc5892ab-97f6-4a95-bdf8-97dfcb0798bc",
     "showTitle": false,
     "title": ""
    },
    "id": "ZDBllco857Yo"
   },
   "outputs": [],
   "source": [
    "from sklearn.model_selection import train_test_split"
   ]
  },
  {
   "cell_type": "code",
   "execution_count": 0,
   "metadata": {
    "application/vnd.databricks.v1+cell": {
     "cellMetadata": {
      "byteLimit": 2048000,
      "rowLimit": 10000
     },
     "inputWidgets": {},
     "nuid": "f9723a0a-5a4b-4df3-837b-f8cdba7a0ccb",
     "showTitle": false,
     "title": ""
    },
    "id": "H7n8DzV357yI"
   },
   "outputs": [],
   "source": [
    "X_dummies_treinamento, X_dummies_teste, y_dummies_treinamento, y_dummies_teste = train_test_split(X_dummies, y_dummies, test_size = 0.25, random_state = 0)"
   ]
  },
  {
   "cell_type": "code",
   "execution_count": 0,
   "metadata": {
    "application/vnd.databricks.v1+cell": {
     "cellMetadata": {
      "byteLimit": 2048000,
      "rowLimit": 10000
     },
     "inputWidgets": {},
     "nuid": "8d5d777e-5163-4bb7-8f1b-c8b3a79e7706",
     "showTitle": false,
     "title": ""
    },
    "id": "0mLnYiJ059LY"
   },
   "outputs": [],
   "source": [
    "X_dummies_treinamento.shape, y_dummies_treinamento.shape"
   ]
  },
  {
   "cell_type": "code",
   "execution_count": 0,
   "metadata": {
    "application/vnd.databricks.v1+cell": {
     "cellMetadata": {
      "byteLimit": 2048000,
      "rowLimit": 10000
     },
     "inputWidgets": {},
     "nuid": "385eed3f-afa3-40ae-8950-b4f19e5f39d7",
     "showTitle": false,
     "title": ""
    },
    "id": "VL9H27s25_U5"
   },
   "outputs": [],
   "source": [
    "X_dummies_teste.shape, y_dummies_teste.shape"
   ]
  },
  {
   "cell_type": "markdown",
   "metadata": {
    "application/vnd.databricks.v1+cell": {
     "cellMetadata": {},
     "inputWidgets": {},
     "nuid": "144c2a90-41bd-4ea2-94c4-a8e524a67b2b",
     "showTitle": false,
     "title": ""
    }
   },
   "source": [
    "# Etapa da aplicação de técnicas de Machine Learning"
   ]
  },
  {
   "cell_type": "code",
   "execution_count": 0,
   "metadata": {
    "application/vnd.databricks.v1+cell": {
     "cellMetadata": {
      "byteLimit": 2048000,
      "rowLimit": 10000
     },
     "inputWidgets": {},
     "nuid": "c7c8d6b8-fbd1-4318-8e05-2b6002511c2f",
     "showTitle": false,
     "title": ""
    },
    "id": "eLvySo6h6AuR"
   },
   "outputs": [],
   "source": [
    "import pickle"
   ]
  },
  {
   "cell_type": "code",
   "execution_count": 0,
   "metadata": {
    "application/vnd.databricks.v1+cell": {
     "cellMetadata": {
      "byteLimit": 2048000,
      "rowLimit": 10000
     },
     "inputWidgets": {},
     "nuid": "14a2c25a-cdb5-40c5-9fe2-74dbe2dfbbaa",
     "showTitle": false,
     "title": ""
    },
    "id": "BAtwfDPf6B9h"
   },
   "outputs": [],
   "source": [
    "with open('dummies.pkl', mode = 'wb') as f:\n",
    "  pickle.dump([X_dummies_treinamento, X_dummies_teste, y_dummies_treinamento, y_dummies_teste], f)"
   ]
  },
  {
   "cell_type": "markdown",
   "metadata": {
    "application/vnd.databricks.v1+cell": {
     "cellMetadata": {},
     "inputWidgets": {},
     "nuid": "e68924e1-38f5-4f9e-9feb-e5a5de4496c3",
     "showTitle": false,
     "title": ""
    },
    "id": "HFdbRomQTLKR"
   },
   "source": [
    "##Naïve Bayes"
   ]
  },
  {
   "cell_type": "code",
   "execution_count": 0,
   "metadata": {
    "application/vnd.databricks.v1+cell": {
     "cellMetadata": {
      "byteLimit": 2048000,
      "rowLimit": 10000
     },
     "inputWidgets": {},
     "nuid": "c4a2003d-85f7-4c4c-b78b-974148084a5f",
     "showTitle": false,
     "title": ""
    },
    "id": "C3BXXcblTV6Z"
   },
   "outputs": [],
   "source": [
    "from sklearn.naive_bayes import GaussianNB"
   ]
  },
  {
   "cell_type": "code",
   "execution_count": 0,
   "metadata": {
    "application/vnd.databricks.v1+cell": {
     "cellMetadata": {
      "byteLimit": 2048000,
      "rowLimit": 10000
     },
     "inputWidgets": {},
     "nuid": "6e9d5e36-4fed-4ce8-b1c7-8c1bbde912ae",
     "showTitle": false,
     "title": ""
    },
    "id": "RbTb5EKSTaFB"
   },
   "outputs": [],
   "source": [
    "with open('dummies.pkl', 'rb') as f:\n",
    "  X_dummies_treinamento, X_dummies_teste, y_dummies_treinamento, y_dummies_teste = pickle.load(f)"
   ]
  },
  {
   "cell_type": "code",
   "execution_count": 0,
   "metadata": {
    "application/vnd.databricks.v1+cell": {
     "cellMetadata": {
      "byteLimit": 2048000,
      "rowLimit": 10000
     },
     "inputWidgets": {},
     "nuid": "6c2c934a-6834-4720-a266-ace951b589c5",
     "showTitle": false,
     "title": ""
    },
    "colab": {
     "base_uri": "https://localhost:8080/"
    },
    "id": "jIZSde2BTdDp",
    "outputId": "0fa95da4-cb4f-4799-b6e9-7320944f3d06"
   },
   "outputs": [],
   "source": [
    "naive_dummie = GaussianNB()\n",
    "naive_dummie.fit(X_dummies_treinamento.toarray(), y_dummies_treinamento)\n",
    "previsoes = naive_dummie.predict(X_dummies_teste.toarray())\n",
    "previsoes"
   ]
  },
  {
   "cell_type": "code",
   "execution_count": 0,
   "metadata": {
    "application/vnd.databricks.v1+cell": {
     "cellMetadata": {
      "byteLimit": 2048000,
      "rowLimit": 10000
     },
     "inputWidgets": {},
     "nuid": "b535aa58-c22b-4a06-bf88-377fba7caeb3",
     "showTitle": false,
     "title": ""
    },
    "id": "rnOGr4tST7qJ"
   },
   "outputs": [],
   "source": [
    "from sklearn.metrics import accuracy_score, confusion_matrix, classification_report"
   ]
  },
  {
   "cell_type": "code",
   "execution_count": 0,
   "metadata": {
    "application/vnd.databricks.v1+cell": {
     "cellMetadata": {
      "byteLimit": 2048000,
      "rowLimit": 10000
     },
     "inputWidgets": {},
     "nuid": "360953d4-aa35-459b-97ce-132a6de7320f",
     "showTitle": false,
     "title": ""
    },
    "id": "IAIjCGdtT8bI"
   },
   "outputs": [],
   "source": [
    "accuracy_score(y_dummies_teste, previsoes)"
   ]
  },
  {
   "cell_type": "code",
   "execution_count": 0,
   "metadata": {
    "application/vnd.databricks.v1+cell": {
     "cellMetadata": {
      "byteLimit": 2048000,
      "rowLimit": 10000
     },
     "inputWidgets": {},
     "nuid": "9b475b11-604c-4219-91f8-bf0a65c69479",
     "showTitle": false,
     "title": ""
    },
    "id": "fx5iK6utT_hQ"
   },
   "outputs": [],
   "source": [
    "confusion_matrix(y_dummies_teste, previsoes)"
   ]
  },
  {
   "cell_type": "code",
   "execution_count": 0,
   "metadata": {
    "application/vnd.databricks.v1+cell": {
     "cellMetadata": {
      "byteLimit": 2048000,
      "rowLimit": 10000
     },
     "inputWidgets": {},
     "nuid": "e31c8bab-02e7-4c1f-a4c0-bb61529633d3",
     "showTitle": false,
     "title": ""
    },
    "id": "AZATTgtYUESh"
   },
   "outputs": [],
   "source": [
    "from yellowbrick.classifier import ConfusionMatrix"
   ]
  },
  {
   "cell_type": "code",
   "execution_count": 0,
   "metadata": {
    "application/vnd.databricks.v1+cell": {
     "cellMetadata": {
      "byteLimit": 2048000,
      "rowLimit": 10000
     },
     "inputWidgets": {},
     "nuid": "0511553c-f481-4035-a3e2-0a4d801cc1c6",
     "showTitle": false,
     "title": ""
    },
    "id": "rrK84C5ZUGGw"
   },
   "outputs": [],
   "source": [
    "cm = ConfusionMatrix(naive_dummie)\n",
    "cm.fit(X_dummies_treinamento, y_dummies_treinamento)\n",
    "cm.score(X_dummies_teste.toarray(), y_dummies_teste)"
   ]
  },
  {
   "cell_type": "markdown",
   "metadata": {
    "application/vnd.databricks.v1+cell": {
     "cellMetadata": {},
     "inputWidgets": {},
     "nuid": "ee041086-6072-4d87-ad3f-93f78b91be01",
     "showTitle": false,
     "title": ""
    },
    "id": "gmDseuOEUWm6"
   },
   "source": [
    "## Árvore de decisão"
   ]
  },
  {
   "cell_type": "code",
   "execution_count": 0,
   "metadata": {
    "application/vnd.databricks.v1+cell": {
     "cellMetadata": {
      "byteLimit": 2048000,
      "rowLimit": 10000
     },
     "inputWidgets": {},
     "nuid": "72a20bf1-c056-4466-8beb-b6aba50f51be",
     "showTitle": false,
     "title": ""
    },
    "id": "1Qw_BHGyUYrh"
   },
   "outputs": [],
   "source": [
    "from sklearn.tree import DecisionTreeClassifier"
   ]
  },
  {
   "cell_type": "code",
   "execution_count": 0,
   "metadata": {
    "application/vnd.databricks.v1+cell": {
     "cellMetadata": {
      "byteLimit": 2048000,
      "rowLimit": 10000
     },
     "inputWidgets": {},
     "nuid": "927150e7-ac9b-4f03-8f6b-1511a6c1736b",
     "showTitle": false,
     "title": ""
    },
    "id": "PKfhkl3fY3EF"
   },
   "outputs": [],
   "source": [
    "with open('dummies.pkl', 'rb') as f:\n",
    "  X_dummies_treinamento, X_dummies_teste, y_dummies_treinamento, y_dummies_teste = pickle.load(f)"
   ]
  },
  {
   "cell_type": "code",
   "execution_count": 0,
   "metadata": {
    "application/vnd.databricks.v1+cell": {
     "cellMetadata": {
      "byteLimit": 2048000,
      "rowLimit": 10000
     },
     "inputWidgets": {},
     "nuid": "617c662a-0af0-42b3-99da-0a72c5f1c12a",
     "showTitle": false,
     "title": ""
    },
    "id": "KHOKb7BdUbjx"
   },
   "outputs": [],
   "source": [
    "arvore_dummie = DecisionTreeClassifier(criterion='entropy', random_state=0)"
   ]
  },
  {
   "cell_type": "code",
   "execution_count": 0,
   "metadata": {
    "application/vnd.databricks.v1+cell": {
     "cellMetadata": {
      "byteLimit": 2048000,
      "rowLimit": 10000
     },
     "inputWidgets": {},
     "nuid": "e59e08ae-fa0a-4821-a2e2-c7dba935ae7d",
     "showTitle": false,
     "title": ""
    },
    "id": "jlyX_khjUkxB"
   },
   "outputs": [],
   "source": [
    "arvore_dummie.fit(X_dummies_treinamento, y_dummies_treinamento)"
   ]
  },
  {
   "cell_type": "code",
   "execution_count": 0,
   "metadata": {
    "application/vnd.databricks.v1+cell": {
     "cellMetadata": {
      "byteLimit": 2048000,
      "rowLimit": 10000
     },
     "inputWidgets": {},
     "nuid": "4c74d278-861d-4880-ba7e-d48fe8b3896c",
     "showTitle": false,
     "title": ""
    },
    "id": "DbuNUXRUUpxw"
   },
   "outputs": [],
   "source": [
    "previsoes = arvore_dummie.predict(X_dummies_teste)\n",
    "previsoes"
   ]
  },
  {
   "cell_type": "code",
   "execution_count": 0,
   "metadata": {
    "application/vnd.databricks.v1+cell": {
     "cellMetadata": {
      "byteLimit": 2048000,
      "rowLimit": 10000
     },
     "inputWidgets": {},
     "nuid": "64992736-28fb-4145-b80d-8e9a595420ee",
     "showTitle": false,
     "title": ""
    },
    "id": "x_BNcbhvUvOR"
   },
   "outputs": [],
   "source": [
    "y_dummies_teste"
   ]
  },
  {
   "cell_type": "code",
   "execution_count": 0,
   "metadata": {
    "application/vnd.databricks.v1+cell": {
     "cellMetadata": {
      "byteLimit": 2048000,
      "rowLimit": 10000
     },
     "inputWidgets": {},
     "nuid": "e3d30c9f-25b1-4f9d-b568-6425a3251549",
     "showTitle": false,
     "title": ""
    },
    "id": "k2XUC4i5Ux-7"
   },
   "outputs": [],
   "source": [
    "accuracy_score(y_dummies_teste, previsoes)"
   ]
  },
  {
   "cell_type": "code",
   "execution_count": 0,
   "metadata": {
    "application/vnd.databricks.v1+cell": {
     "cellMetadata": {
      "byteLimit": 2048000,
      "rowLimit": 10000
     },
     "inputWidgets": {},
     "nuid": "e841eaf9-79da-41fe-b113-874d20ba495d",
     "showTitle": false,
     "title": ""
    },
    "id": "yCKedF7mU2WR"
   },
   "outputs": [],
   "source": [
    "from yellowbrick.classifier import ConfusionMatrix"
   ]
  },
  {
   "cell_type": "code",
   "execution_count": 0,
   "metadata": {
    "application/vnd.databricks.v1+cell": {
     "cellMetadata": {
      "byteLimit": 2048000,
      "rowLimit": 10000
     },
     "inputWidgets": {},
     "nuid": "668da84d-9370-4779-ae04-e874ae242461",
     "showTitle": false,
     "title": ""
    },
    "id": "v4nQ3EscU3Aw"
   },
   "outputs": [],
   "source": [
    "cm = ConfusionMatrix(arvore_dummie)\n",
    "cm.fit(X_dummies_treinamento, y_dummies_treinamento)\n",
    "cm.score(X_dummies_teste.toarray(), y_dummies_teste)"
   ]
  },
  {
   "cell_type": "markdown",
   "metadata": {
    "application/vnd.databricks.v1+cell": {
     "cellMetadata": {},
     "inputWidgets": {},
     "nuid": "f280ce6c-d044-43d0-875b-3d5fe70ec93e",
     "showTitle": false,
     "title": ""
    },
    "id": "vmo9JXJtX8_H"
   },
   "source": [
    "## Random Forest"
   ]
  },
  {
   "cell_type": "code",
   "execution_count": 0,
   "metadata": {
    "application/vnd.databricks.v1+cell": {
     "cellMetadata": {
      "byteLimit": 2048000,
      "rowLimit": 10000
     },
     "inputWidgets": {},
     "nuid": "8772095c-8b57-4e58-9f1a-e30d5c5982d0",
     "showTitle": false,
     "title": ""
    },
    "id": "NS-TePQYX-vm"
   },
   "outputs": [],
   "source": [
    "from sklearn.ensemble import RandomForestClassifier"
   ]
  },
  {
   "cell_type": "code",
   "execution_count": 0,
   "metadata": {
    "application/vnd.databricks.v1+cell": {
     "cellMetadata": {
      "byteLimit": 2048000,
      "rowLimit": 10000
     },
     "inputWidgets": {},
     "nuid": "4c317cf4-92e4-4429-a397-9f7925df6adb",
     "showTitle": false,
     "title": ""
    },
    "id": "pf3noBh7Y1m-"
   },
   "outputs": [],
   "source": [
    "with open('dummies.pkl', 'rb') as f:\n",
    "  X_dummies_treinamento, X_dummies_teste, y_dummies_treinamento, y_dummies_teste = pickle.load(f)"
   ]
  },
  {
   "cell_type": "code",
   "execution_count": 0,
   "metadata": {
    "application/vnd.databricks.v1+cell": {
     "cellMetadata": {
      "byteLimit": 2048000,
      "rowLimit": 10000
     },
     "inputWidgets": {},
     "nuid": "9032c0fe-ef18-4769-b392-c0140e01251a",
     "showTitle": false,
     "title": ""
    },
    "id": "d91e99dwYAXe"
   },
   "outputs": [],
   "source": [
    "random_forest_dummie = RandomForestClassifier(n_estimators=100, criterion='entropy', random_state = 0)"
   ]
  },
  {
   "cell_type": "code",
   "execution_count": 0,
   "metadata": {
    "application/vnd.databricks.v1+cell": {
     "cellMetadata": {
      "byteLimit": 2048000,
      "rowLimit": 10000
     },
     "inputWidgets": {},
     "nuid": "79f44fa7-07ca-4693-8338-c5c76dc31edf",
     "showTitle": false,
     "title": ""
    },
    "id": "reHkKmeDYB82"
   },
   "outputs": [],
   "source": [
    "random_forest_dummie.fit(X_dummies_treinamento, y_dummies_treinamento)"
   ]
  },
  {
   "cell_type": "code",
   "execution_count": 0,
   "metadata": {
    "application/vnd.databricks.v1+cell": {
     "cellMetadata": {
      "byteLimit": 2048000,
      "rowLimit": 10000
     },
     "inputWidgets": {},
     "nuid": "f7087419-7fbb-40d7-bdb0-2949298357d3",
     "showTitle": false,
     "title": ""
    },
    "id": "PsuOOtGdYLeW"
   },
   "outputs": [],
   "source": [
    "previsoes = random_forest_dummie.predict(X_dummies_teste)\n",
    "previsoes"
   ]
  },
  {
   "cell_type": "code",
   "execution_count": 0,
   "metadata": {
    "application/vnd.databricks.v1+cell": {
     "cellMetadata": {
      "byteLimit": 2048000,
      "rowLimit": 10000
     },
     "inputWidgets": {},
     "nuid": "8d1c392f-d5c3-4930-834f-55d89ca0bfa3",
     "showTitle": false,
     "title": ""
    },
    "id": "nv6dG7wJYRcG"
   },
   "outputs": [],
   "source": [
    "y_dummies_teste"
   ]
  },
  {
   "cell_type": "code",
   "execution_count": 0,
   "metadata": {
    "application/vnd.databricks.v1+cell": {
     "cellMetadata": {
      "byteLimit": 2048000,
      "rowLimit": 10000
     },
     "inputWidgets": {},
     "nuid": "ae5720f4-ce22-4cae-8c35-882d45326a48",
     "showTitle": false,
     "title": ""
    },
    "id": "ha67i2TkYVlG"
   },
   "outputs": [],
   "source": [
    "accuracy_score(y_dummies_teste, previsoes)"
   ]
  },
  {
   "cell_type": "code",
   "execution_count": 0,
   "metadata": {
    "application/vnd.databricks.v1+cell": {
     "cellMetadata": {
      "byteLimit": 2048000,
      "rowLimit": 10000
     },
     "inputWidgets": {},
     "nuid": "6f8da3ba-081c-49b4-accd-8513024c1ed0",
     "showTitle": false,
     "title": ""
    },
    "id": "YBenwbrCYaHd"
   },
   "outputs": [],
   "source": [
    "cm = ConfusionMatrix(random_forest_dummie)\n",
    "cm.fit(X_dummies_treinamento, y_dummies_treinamento)\n",
    "cm.score(X_dummies_teste.toarray(), y_dummies_teste)"
   ]
  },
  {
   "cell_type": "markdown",
   "metadata": {
    "application/vnd.databricks.v1+cell": {
     "cellMetadata": {},
     "inputWidgets": {},
     "nuid": "afa9f023-746a-4b84-97c8-1290d9504145",
     "showTitle": false,
     "title": ""
    },
    "id": "zDxukRFMYmV_"
   },
   "source": [
    "##kNN"
   ]
  },
  {
   "cell_type": "code",
   "execution_count": 0,
   "metadata": {
    "application/vnd.databricks.v1+cell": {
     "cellMetadata": {
      "byteLimit": 2048000,
      "rowLimit": 10000
     },
     "inputWidgets": {},
     "nuid": "899c7394-fb01-4cdb-9094-e8cf93cebba3",
     "showTitle": false,
     "title": ""
    },
    "id": "MMY9ixayYm_-"
   },
   "outputs": [],
   "source": [
    "from sklearn.neighbors import KNeighborsClassifier"
   ]
  },
  {
   "cell_type": "code",
   "execution_count": 0,
   "metadata": {
    "application/vnd.databricks.v1+cell": {
     "cellMetadata": {
      "byteLimit": 2048000,
      "rowLimit": 10000
     },
     "inputWidgets": {},
     "nuid": "e6a193f0-b3e9-434c-bcf3-c33b2f5830e0",
     "showTitle": false,
     "title": ""
    },
    "id": "v0tCZy2iYpx-"
   },
   "outputs": [],
   "source": [
    "with open('dummies.pkl', 'rb') as f:\n",
    "  X_dummies_treinamento, X_dummies_teste, y_dummies_treinamento, y_dummies_teste = pickle.load(f)"
   ]
  },
  {
   "cell_type": "code",
   "execution_count": 0,
   "metadata": {
    "application/vnd.databricks.v1+cell": {
     "cellMetadata": {
      "byteLimit": 2048000,
      "rowLimit": 10000
     },
     "inputWidgets": {},
     "nuid": "930ca414-4043-47fa-adac-4d3fdafc1595",
     "showTitle": false,
     "title": ""
    },
    "id": "XOnMfCxBY6Rl"
   },
   "outputs": [],
   "source": [
    "knn_dummie = KNeighborsClassifier(n_neighbors=10)"
   ]
  },
  {
   "cell_type": "code",
   "execution_count": 0,
   "metadata": {
    "application/vnd.databricks.v1+cell": {
     "cellMetadata": {
      "byteLimit": 2048000,
      "rowLimit": 10000
     },
     "inputWidgets": {},
     "nuid": "f9562bd2-b91b-4bf6-9614-4db39bfdb87c",
     "showTitle": false,
     "title": ""
    },
    "id": "oxq1hFHgY9Ut"
   },
   "outputs": [],
   "source": [
    "knn_dummie.fit(X_dummies_treinamento, y_dummies_treinamento)"
   ]
  },
  {
   "cell_type": "code",
   "execution_count": 0,
   "metadata": {
    "application/vnd.databricks.v1+cell": {
     "cellMetadata": {
      "byteLimit": 2048000,
      "rowLimit": 10000
     },
     "inputWidgets": {},
     "nuid": "2458d582-10e2-4d8f-bbbc-59238a60e7d2",
     "showTitle": false,
     "title": ""
    },
    "id": "xaKFaf1FZDhW"
   },
   "outputs": [],
   "source": [
    "previsoes = knn_dummie.predict(X_dummies_teste)\n",
    "previsoes"
   ]
  },
  {
   "cell_type": "code",
   "execution_count": 0,
   "metadata": {
    "application/vnd.databricks.v1+cell": {
     "cellMetadata": {
      "byteLimit": 2048000,
      "rowLimit": 10000
     },
     "inputWidgets": {},
     "nuid": "bf727338-21c7-4c0d-ad41-c18c7217a625",
     "showTitle": false,
     "title": ""
    },
    "id": "V90PJroQZJbG"
   },
   "outputs": [],
   "source": [
    "y_dummies_teste"
   ]
  },
  {
   "cell_type": "code",
   "execution_count": 0,
   "metadata": {
    "application/vnd.databricks.v1+cell": {
     "cellMetadata": {
      "byteLimit": 2048000,
      "rowLimit": 10000
     },
     "inputWidgets": {},
     "nuid": "e511a1cc-80e6-4cf2-8bf8-510e85aac8e9",
     "showTitle": false,
     "title": ""
    },
    "id": "Vb6qoegxZMxf"
   },
   "outputs": [],
   "source": [
    "from sklearn.metrics import accuracy_score, classification_report\n",
    "accuracy_score(y_dummies_teste, previsoes)"
   ]
  },
  {
   "cell_type": "code",
   "execution_count": 0,
   "metadata": {
    "application/vnd.databricks.v1+cell": {
     "cellMetadata": {
      "byteLimit": 2048000,
      "rowLimit": 10000
     },
     "inputWidgets": {},
     "nuid": "6ddf33e9-2397-481a-8bf5-3362c7199f0c",
     "showTitle": false,
     "title": ""
    },
    "id": "uZIgxtMbZQW-"
   },
   "outputs": [],
   "source": [
    "from yellowbrick.classifier import ConfusionMatrix\n",
    "cm = ConfusionMatrix(knn_dummie)\n",
    "cm.fit(X_dummies_treinamento, y_dummies_treinamento)\n",
    "cm.score(X_dummies_teste.toarray(), y_dummies_teste)"
   ]
  },
  {
   "cell_type": "markdown",
   "metadata": {
    "application/vnd.databricks.v1+cell": {
     "cellMetadata": {},
     "inputWidgets": {},
     "nuid": "1c400c48-8896-4901-9012-79012c55e750",
     "showTitle": false,
     "title": ""
    },
    "id": "2UGZhQKEZY8t"
   },
   "source": [
    "##SVM"
   ]
  },
  {
   "cell_type": "code",
   "execution_count": 0,
   "metadata": {
    "application/vnd.databricks.v1+cell": {
     "cellMetadata": {
      "byteLimit": 2048000,
      "rowLimit": 10000
     },
     "inputWidgets": {},
     "nuid": "e5c39753-19f3-4c03-86d8-e17e757e1a21",
     "showTitle": false,
     "title": ""
    },
    "id": "mR-RHBqnZcjN"
   },
   "outputs": [],
   "source": [
    "from sklearn.svm import SVC"
   ]
  },
  {
   "cell_type": "code",
   "execution_count": 0,
   "metadata": {
    "application/vnd.databricks.v1+cell": {
     "cellMetadata": {
      "byteLimit": 2048000,
      "rowLimit": 10000
     },
     "inputWidgets": {},
     "nuid": "6c5c0182-3502-4e24-8bc0-1115aeeffc57",
     "showTitle": false,
     "title": ""
    },
    "id": "tNLIz-gWZfJt"
   },
   "outputs": [],
   "source": [
    "with open('dummies.pkl', 'rb') as f:\n",
    "  X_dummies_treinamento, X_dummies_teste, y_dummies_treinamento, y_dummies_teste = pickle.load(f)"
   ]
  },
  {
   "cell_type": "code",
   "execution_count": 0,
   "metadata": {
    "application/vnd.databricks.v1+cell": {
     "cellMetadata": {
      "byteLimit": 2048000,
      "rowLimit": 10000
     },
     "inputWidgets": {},
     "nuid": "ee4eaecf-3616-4b89-8c8f-56a7ea913159",
     "showTitle": false,
     "title": ""
    },
    "id": "olPGI1t9Zhct"
   },
   "outputs": [],
   "source": [
    "svm_dummie = SVC(kernel='linear', random_state=1)"
   ]
  },
  {
   "cell_type": "code",
   "execution_count": 0,
   "metadata": {
    "application/vnd.databricks.v1+cell": {
     "cellMetadata": {
      "byteLimit": 2048000,
      "rowLimit": 10000
     },
     "inputWidgets": {},
     "nuid": "7e16b4d6-d2a3-49f7-8668-076fe13d3636",
     "showTitle": false,
     "title": ""
    },
    "id": "cVYaCOjjZkO2"
   },
   "outputs": [],
   "source": [
    "svm_dummie.fit(X_dummies_treinamento, y_dummies_treinamento)"
   ]
  },
  {
   "cell_type": "code",
   "execution_count": 0,
   "metadata": {
    "application/vnd.databricks.v1+cell": {
     "cellMetadata": {
      "byteLimit": 2048000,
      "rowLimit": 10000
     },
     "inputWidgets": {},
     "nuid": "842d2e34-1d54-4e6f-aaf1-55ba445c3d7a",
     "showTitle": false,
     "title": ""
    },
    "id": "FiE2KQ45Zpum"
   },
   "outputs": [],
   "source": [
    "previsoes = svm_dummie.predict(X_dummies_teste)\n",
    "previsoes"
   ]
  },
  {
   "cell_type": "code",
   "execution_count": 0,
   "metadata": {
    "application/vnd.databricks.v1+cell": {
     "cellMetadata": {
      "byteLimit": 2048000,
      "rowLimit": 10000
     },
     "inputWidgets": {},
     "nuid": "c211cfce-1602-4697-b8a6-f34e8bf60f0f",
     "showTitle": false,
     "title": ""
    },
    "id": "2zADTUEBZuHW"
   },
   "outputs": [],
   "source": [
    "y_dummies_teste"
   ]
  },
  {
   "cell_type": "code",
   "execution_count": 0,
   "metadata": {
    "application/vnd.databricks.v1+cell": {
     "cellMetadata": {
      "byteLimit": 2048000,
      "rowLimit": 10000
     },
     "inputWidgets": {},
     "nuid": "4bc79168-1713-4cbe-8a4f-ca3090a184ea",
     "showTitle": false,
     "title": ""
    },
    "id": "g9Svp3VwaFne"
   },
   "outputs": [],
   "source": [
    "from sklearn.metrics import accuracy_score, classification_report\n",
    "accuracy_score(y_dummies_teste, previsoes)"
   ]
  },
  {
   "cell_type": "code",
   "execution_count": 0,
   "metadata": {
    "application/vnd.databricks.v1+cell": {
     "cellMetadata": {
      "byteLimit": 2048000,
      "rowLimit": 10000
     },
     "inputWidgets": {},
     "nuid": "3fb5d3f4-5d80-4498-912e-8d5af422775a",
     "showTitle": false,
     "title": ""
    },
    "id": "XUmCcYFDaJZt"
   },
   "outputs": [],
   "source": [
    "from yellowbrick.classifier import ConfusionMatrix\n",
    "cm = ConfusionMatrix(svm_dummie)\n",
    "cm.fit(X_dummies_treinamento, y_dummies_treinamento)\n",
    "cm.score(X_dummies_teste.toarray(), y_dummies_teste)"
   ]
  },
  {
   "cell_type": "markdown",
   "metadata": {
    "application/vnd.databricks.v1+cell": {
     "cellMetadata": {},
     "inputWidgets": {},
     "nuid": "ea2b876a-5c82-47f2-b881-79237ac65ffe",
     "showTitle": false,
     "title": ""
    },
    "id": "cJ1wCfY68Bvn"
   },
   "source": [
    "## Redes Neurais"
   ]
  },
  {
   "cell_type": "code",
   "execution_count": 0,
   "metadata": {
    "application/vnd.databricks.v1+cell": {
     "cellMetadata": {
      "byteLimit": 2048000,
      "rowLimit": 10000
     },
     "inputWidgets": {},
     "nuid": "3d636c42-efcd-4acd-8a2b-361ac0cc595c",
     "showTitle": false,
     "title": ""
    },
    "id": "rMGxTZ028E-H"
   },
   "outputs": [],
   "source": [
    "from sklearn.neural_network import MLPClassifier"
   ]
  },
  {
   "cell_type": "code",
   "execution_count": 0,
   "metadata": {
    "application/vnd.databricks.v1+cell": {
     "cellMetadata": {
      "byteLimit": 2048000,
      "rowLimit": 10000
     },
     "inputWidgets": {},
     "nuid": "5a6f350f-bdb9-473b-ac2a-a9fd5e7b87cb",
     "showTitle": false,
     "title": ""
    },
    "id": "jcDMGoQj8H6f"
   },
   "outputs": [],
   "source": [
    "with open('dummies.pkl', 'rb') as f:\n",
    "  X_dummies_treinamento, X_dummies_teste, y_dummies_treinamento, y_dummies_teste = pickle.load(f)"
   ]
  },
  {
   "cell_type": "code",
   "execution_count": 0,
   "metadata": {
    "application/vnd.databricks.v1+cell": {
     "cellMetadata": {
      "byteLimit": 2048000,
      "rowLimit": 10000
     },
     "inputWidgets": {},
     "nuid": "b2c3bfe7-5078-4b9e-bc8f-e0814782ad3d",
     "showTitle": false,
     "title": ""
    },
    "colab": {
     "base_uri": "https://localhost:8080/",
     "height": 1000
    },
    "id": "6sJOWj4x8ioY",
    "outputId": "fb64c4ed-b16b-4102-c5f6-1ca2961071a9"
   },
   "outputs": [],
   "source": [
    "rede_neural_dummies = MLPClassifier(max_iter=1000, verbose=True, tol=0.0000100,\n",
    "                                   solver = 'adam', activation = 'relu',\n",
    "                                   hidden_layer_sizes = (20,20))\n",
    "rede_neural_dummies.fit(X_dummies_treinamento, y_dummies_treinamento)"
   ]
  },
  {
   "cell_type": "code",
   "execution_count": 0,
   "metadata": {
    "application/vnd.databricks.v1+cell": {
     "cellMetadata": {
      "byteLimit": 2048000,
      "rowLimit": 10000
     },
     "inputWidgets": {},
     "nuid": "58b9db3c-5526-41b2-824f-6ff96c37857b",
     "showTitle": false,
     "title": ""
    },
    "colab": {
     "base_uri": "https://localhost:8080/"
    },
    "id": "9IfptGKF8tzP",
    "outputId": "727159d1-74a0-4fe5-9959-d22a9fb00450"
   },
   "outputs": [],
   "source": [
    "previsoes = rede_neural_dummies.predict(X_dummies_teste)\n",
    "previsoes"
   ]
  },
  {
   "cell_type": "code",
   "execution_count": 0,
   "metadata": {
    "application/vnd.databricks.v1+cell": {
     "cellMetadata": {
      "byteLimit": 2048000,
      "rowLimit": 10000
     },
     "inputWidgets": {},
     "nuid": "adce1458-443f-43a7-ae32-c9d0e4a55f27",
     "showTitle": false,
     "title": ""
    },
    "colab": {
     "base_uri": "https://localhost:8080/"
    },
    "id": "gzGpzj-D9t54",
    "outputId": "53a283bf-35c9-4517-dc03-c9688713aaa0"
   },
   "outputs": [],
   "source": [
    "y_dummies_teste"
   ]
  },
  {
   "cell_type": "code",
   "execution_count": 0,
   "metadata": {
    "application/vnd.databricks.v1+cell": {
     "cellMetadata": {
      "byteLimit": 2048000,
      "rowLimit": 10000
     },
     "inputWidgets": {},
     "nuid": "b2f95395-5be1-4802-aac9-f0fa01ba55c0",
     "showTitle": false,
     "title": ""
    },
    "colab": {
     "base_uri": "https://localhost:8080/"
    },
    "id": "Q3YtJi8N9wj_",
    "outputId": "3a6b52c1-868a-4bf6-ae49-12d96240805f"
   },
   "outputs": [],
   "source": [
    "from sklearn.metrics import accuracy_score, classification_report\n",
    "accuracy_score(y_dummies_teste, previsoes)"
   ]
  },
  {
   "cell_type": "code",
   "execution_count": 0,
   "metadata": {
    "application/vnd.databricks.v1+cell": {
     "cellMetadata": {
      "byteLimit": 2048000,
      "rowLimit": 10000
     },
     "inputWidgets": {},
     "nuid": "a1db8ecc-8a99-499b-b4fd-8cec00cdfcb2",
     "showTitle": false,
     "title": ""
    },
    "colab": {
     "base_uri": "https://localhost:8080/",
     "height": 496
    },
    "id": "lVjqRsrZ9yl4",
    "outputId": "0065ea59-e8c0-46fc-f297-0fe1873cc373"
   },
   "outputs": [],
   "source": [
    "from yellowbrick.classifier import ConfusionMatrix\n",
    "cm = ConfusionMatrix(rede_neural_dummies)\n",
    "cm.fit(X_dummies_treinamento, y_dummies_treinamento)\n",
    "cm.score(X_dummies_teste, y_dummies_teste)"
   ]
  }
 ],
 "metadata": {
  "application/vnd.databricks.v1+notebook": {
   "dashboards": [],
   "environmentMetadata": null,
   "language": "python",
   "notebookMetadata": {
    "pythonIndentUnit": 4
   },
   "notebookName": "Machine_Learning_Cancer2",
   "widgets": {}
  },
  "colab": {
   "collapsed_sections": [
    "HFdbRomQTLKR",
    "gmDseuOEUWm6",
    "vmo9JXJtX8_H",
    "zDxukRFMYmV_",
    "2UGZhQKEZY8t"
   ],
   "provenance": []
  },
  "kernelspec": {
   "display_name": "Python 3",
   "name": "python3"
  }
 },
 "nbformat": 4,
 "nbformat_minor": 0
}
